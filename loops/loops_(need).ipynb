{
 "cells": [
  {
   "cell_type": "markdown",
   "id": "123456",
   "metadata": {},
   "source": [
    "<div style=\"text-align:left;font-size:2em\"><span style=\"font-weight:bolder;font-size:1.25em\">SP2273 | Learning Portfolio</span><br><br><span style=\"font-weight:bold;color:darkred\">Loops (Need)</span></div>"
   ]
  },
  {
   "cell_type": "markdown",
   "id": "4b65e917",
   "metadata": {},
   "source": [
    "## 1 for"
   ]
  },
  {
   "cell_type": "markdown",
   "id": "0fba4139",
   "metadata": {},
   "source": [
    "### 1.1 for with a list"
   ]
  },
  {
   "cell_type": "code",
   "execution_count": 3,
   "id": "41452ef3",
   "metadata": {},
   "outputs": [
    {
     "name": "stdout",
     "output_type": "stream",
     "text": [
      "1 is less than 10.\n",
      "2 is less than 10.\n",
      "3 is less than 10.\n",
      "4 is less than 10.\n",
      "5 is less than 10.\n",
      "6 is less than 10.\n",
      "7 is less than 10.\n",
      "8 is less than 10.\n",
      "9 is less than 10.\n"
     ]
    }
   ],
   "source": [
    "numbers = [\"1\", \"2\", \"3\", \"4\", \"5\", \"6\", \"7\", \"8\", \"9\"]\n",
    "\n",
    "for number in numbers:                                           # \"for\" directly loops through the list\n",
    "    print(f\"{number} is less than 10.\")"
   ]
  },
  {
   "cell_type": "markdown",
   "id": "07071edf",
   "metadata": {},
   "source": [
    "### 1.2 for with enumerate"
   ]
  },
  {
   "cell_type": "code",
   "execution_count": 8,
   "id": "f11b70ec",
   "metadata": {},
   "outputs": [
    {
     "name": "stdout",
     "output_type": "stream",
     "text": [
      "0: Sarah is a person.\n",
      "0: Sarah likes the colour red.\n",
      "1: Jake is a person.\n",
      "1: Jake likes the colour orange.\n",
      "2: Matthew is a person.\n",
      "2: Matthew likes the colour yellow.\n",
      "3: Samantha is a person.\n",
      "3: Samantha likes the colour green.\n",
      "4: Pablo is a person.\n",
      "4: Pablo likes the colour blue.\n"
     ]
    }
   ],
   "source": [
    "names = [\"Sarah\", \"Jake\", \"Matthew\", \"Samantha\", \"Pablo\"]\n",
    "colours = [\"red\", \"orange\", \"yellow\", \"green\", \"blue\"]\n",
    "\n",
    "for i, name in enumerate(names):\n",
    "    likes = colours[i]\n",
    "    print(f\"{i}: {name} is a person.\")\n",
    "    print(f\"{i}: {name} likes the colour {likes}.\")"
   ]
  },
  {
   "cell_type": "code",
   "execution_count": 10,
   "id": "9b8719e6",
   "metadata": {},
   "outputs": [
    {
     "name": "stdout",
     "output_type": "stream",
     "text": [
      "50: Sarah is a person.\n",
      "51: Jake is a person.\n",
      "52: Matthew is a person.\n",
      "53: Samantha is a person.\n",
      "54: Pablo is a person.\n"
     ]
    }
   ],
   "source": [
    "for i, name in enumerate(names,50):\n",
    "    print(f\"{i}: {name} is a person.\")"
   ]
  },
  {
   "cell_type": "markdown",
   "id": "263c2d19",
   "metadata": {},
   "source": [
    "### 1.3 for with range"
   ]
  },
  {
   "cell_type": "code",
   "execution_count": 20,
   "id": "ee6496d5",
   "metadata": {},
   "outputs": [
    {
     "name": "stdout",
     "output_type": "stream",
     "text": [
      "0\n",
      "1\n",
      "2\n",
      "3\n",
      "4\n"
     ]
    }
   ],
   "source": [
    "for i in range(5):               # Prints the first 5 loops, starting from 0.\n",
    "    print(i)"
   ]
  },
  {
   "cell_type": "code",
   "execution_count": 19,
   "id": "0b8cc583",
   "metadata": {},
   "outputs": [
    {
     "name": "stdout",
     "output_type": "stream",
     "text": [
      "3\n",
      "4\n",
      "5\n",
      "6\n"
     ]
    }
   ],
   "source": [
    "for i in range(3,7):             # Prints the first 7-3=4 loops, starting from 3.\n",
    "    print(i)"
   ]
  },
  {
   "cell_type": "code",
   "execution_count": 18,
   "id": "b501361e",
   "metadata": {},
   "outputs": [
    {
     "name": "stdout",
     "output_type": "stream",
     "text": [
      "0\n",
      "3\n",
      "6\n",
      "9\n"
     ]
    }
   ],
   "source": [
    "for i in range(0,10,3):          # Selects and prints loops at intervals of 3, starting from 0.\n",
    "    print(i)"
   ]
  },
  {
   "cell_type": "code",
   "execution_count": 23,
   "id": "92be45e7",
   "metadata": {},
   "outputs": [
    {
     "name": "stdout",
     "output_type": "stream",
     "text": [
      "Sarah's favourite colour is red.\n",
      "Jake's favourite colour is orange.\n",
      "Matthew's favourite colour is yellow.\n",
      "Samantha's favourite colour is green.\n",
      "Pablo's favourite colour is blue.\n"
     ]
    }
   ],
   "source": [
    "for i in range(len(names)):\n",
    "    name = names[i]\n",
    "    colour = colours[i]\n",
    "    print(f\"{name}'s favourite colour is {colour}.\")"
   ]
  },
  {
   "cell_type": "markdown",
   "id": "335c67a1",
   "metadata": {},
   "source": [
    "## 2 while"
   ]
  },
  {
   "cell_type": "code",
   "execution_count": 26,
   "id": "814b1c21",
   "metadata": {},
   "outputs": [
    {
     "name": "stdout",
     "output_type": "stream",
     "text": [
      "2\n",
      "3\n",
      "4\n"
     ]
    }
   ],
   "source": [
    "number = 2\n",
    "\n",
    "while number < 5:               # Loop keeps running while condition (number < 5) is True.\n",
    "    print(number)\n",
    "    number += 1"
   ]
  },
  {
   "cell_type": "markdown",
   "id": "61ff1f31",
   "metadata": {},
   "source": [
    "## Exercise 1 :  Make me a list"
   ]
  },
  {
   "cell_type": "code",
   "execution_count": 43,
   "id": "d6d87229",
   "metadata": {},
   "outputs": [
    {
     "name": "stdout",
     "output_type": "stream",
     "text": [
      "[0, 1, 4, 9, 16, 25, 36, 49, 64, 81]\n"
     ]
    }
   ],
   "source": [
    "set1 = []                            # Define an empty list\n",
    "for i in range(10):                  # Set a loop that adds and squares elements 0 to 9 in the list.\n",
    "    set1.append(i**2)\n",
    "\n",
    "print(set1)"
   ]
  },
  {
   "cell_type": "markdown",
   "id": "8e465c94",
   "metadata": {},
   "source": [
    "## Exercise 2 :  Make me an odd list"
   ]
  },
  {
   "cell_type": "code",
   "execution_count": 42,
   "id": "6a4bb78b",
   "metadata": {},
   "outputs": [
    {
     "name": "stdout",
     "output_type": "stream",
     "text": [
      "[1, 9, 25, 49, 81]\n"
     ]
    }
   ],
   "source": [
    "set1 = []\n",
    "for i in range(1,10,2):              # Only odd numbers are selected to be added.\n",
    "    set1.append(i**2)\n",
    "    \n",
    "print(set1)"
   ]
  },
  {
   "cell_type": "markdown",
   "id": "30f5dc72",
   "metadata": {},
   "source": [
    "## Exercise 3 :  Make me another odd list"
   ]
  },
  {
   "cell_type": "code",
   "execution_count": 44,
   "id": "af403347",
   "metadata": {},
   "outputs": [
    {
     "name": "stdout",
     "output_type": "stream",
     "text": [
      "[1, 9, 25, 49, 81]\n"
     ]
    }
   ],
   "source": [
    "set2 = []\n",
    "i = 1\n",
    "while i < 10:\n",
    "    set2.append(i**2)\n",
    "    i +=2\n",
    "\n",
    "print(set2)"
   ]
  }
 ],
 "metadata": {
  "kernelspec": {
   "display_name": "Python 3 (ipykernel)",
   "language": "python",
   "name": "python3"
  },
  "language_info": {
   "codemirror_mode": {
    "name": "ipython",
    "version": 3
   },
   "file_extension": ".py",
   "mimetype": "text/x-python",
   "name": "python",
   "nbconvert_exporter": "python",
   "pygments_lexer": "ipython3",
   "version": "3.10.8"
  },
  "toc": {
   "base_numbering": 1,
   "nav_menu": {},
   "number_sections": true,
   "sideBar": true,
   "skip_h1_title": false,
   "title_cell": "Table of Contents",
   "title_sidebar": "Contents",
   "toc_cell": false,
   "toc_position": {},
   "toc_section_display": true,
   "toc_window_display": false
  },
  "varInspector": {
   "cols": {
    "lenName": 16,
    "lenType": 16,
    "lenVar": 40
   },
   "kernels_config": {
    "python": {
     "delete_cmd_postfix": "",
     "delete_cmd_prefix": "del ",
     "library": "var_list.py",
     "varRefreshCmd": "print(var_dic_list())"
    },
    "r": {
     "delete_cmd_postfix": ") ",
     "delete_cmd_prefix": "rm(",
     "library": "var_list.r",
     "varRefreshCmd": "cat(var_dic_list()) "
    }
   },
   "types_to_exclude": [
    "module",
    "function",
    "builtin_function_or_method",
    "instance",
    "_Feature"
   ],
   "window_display": false
  },
  "vscode": {
   "interpreter": {
    "hash": "31f2aee4e71d21fbe5cf8b01ff0e069b9275f58929596ceb00d14d90e3e16cd6"
   }
  }
 },
 "nbformat": 4,
 "nbformat_minor": 5
}
