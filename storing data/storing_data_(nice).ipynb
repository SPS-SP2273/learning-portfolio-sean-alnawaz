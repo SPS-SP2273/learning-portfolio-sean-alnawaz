{
 "cells": [
  {
   "cell_type": "markdown",
   "id": "123456",
   "metadata": {},
   "source": [
    "<div style=\"text-align:left;font-size:2em\"><span style=\"font-weight:bolder;font-size:1.25em\">SP2273 | Learning Portfolio</span><br><br><span style=\"font-weight:bold;color:darkred\">Storing Data (Nice)</span></div>"
   ]
  },
  {
   "cell_type": "markdown",
   "id": "609e019b",
   "metadata": {},
   "source": [
    "## 1 Classes"
   ]
  },
  {
   "cell_type": "markdown",
   "id": "d5440ef8",
   "metadata": {},
   "source": [
    "### 1.1 A grave injustice"
   ]
  },
  {
   "cell_type": "code",
   "execution_count": 3,
   "id": "7d13db1e",
   "metadata": {},
   "outputs": [
    {
     "name": "stdout",
     "output_type": "stream",
     "text": [
      ":)\n"
     ]
    }
   ],
   "source": [
    "print(\":)\")"
   ]
  },
  {
   "cell_type": "markdown",
   "id": "80c07871",
   "metadata": {},
   "source": [
    "### 1.2 A particle class"
   ]
  },
  {
   "cell_type": "code",
   "execution_count": 11,
   "id": "89ca8983",
   "metadata": {},
   "outputs": [],
   "source": [
    "class ParticleA:\n",
    "    mass=None\n",
    "    position=None\n",
    "    radius=None"
   ]
  },
  {
   "cell_type": "code",
   "execution_count": 28,
   "id": "c3f900a9",
   "metadata": {},
   "outputs": [
    {
     "name": "stdout",
     "output_type": "stream",
     "text": [
      "Particle 0 is at position 0.3, while Particle 1 is at position 0.7.\n",
      "Particle 0 is heavier than Particle 1, which has a mass of 12.\n"
     ]
    }
   ],
   "source": [
    "particle_0=ParticleA()         # Create a new particle\n",
    "particle_0.mass=13             # Set mass for particle 0 \n",
    "particle_0.position=.3         # Set position of particle 0\n",
    "particle_0.radius=.01          # Set the radius of particle 0\n",
    "\n",
    "particle_1=ParticleA()         # Create another particle\n",
    "particle_1.mass=12             # Set mass for particle 1 \n",
    "particle_1.position=.7         # Set position of particle 1\n",
    "particle_1.radius=.02          # Set the radius of particle 1\n",
    "\n",
    "print(f\"Particle 0 is at position {particle_0.position}, while Particle 1 is at position {particle_1.position}.\")\n",
    "\n",
    "if particle_1.mass > particle_0.mass:\n",
    "    print(f\"Particle 1 has a mass of {particle_1.mass}, which is heavier than Particle 0.\")\n",
    "    \n",
    "elif particle_1.mass == particle_0.mass:\n",
    "    print(f\"Particle 0 and 1 have the same mass of {particle_0.mass}.\")\n",
    "    \n",
    "else:\n",
    "    print(f\"Particle 0 is heavier than Particle 1, which has a mass of {particle_1.mass}.\")"
   ]
  },
  {
   "cell_type": "markdown",
   "id": "85d3321b",
   "metadata": {},
   "source": [
    "### 1.3 Class vs Object variables"
   ]
  },
  {
   "cell_type": "code",
   "execution_count": 37,
   "id": "f9e44dc2",
   "metadata": {},
   "outputs": [
    {
     "name": "stdout",
     "output_type": "stream",
     "text": [
      "Particle 0 has mass 45 and is at position 0.5.\n",
      "Particle 1 has mass 45 and is at position 0.1.\n"
     ]
    }
   ],
   "source": [
    "ParticleA.mass = 45            # Set the class variable mass. \n",
    "ParticleA.radius = .01         # Set the class variable radius\n",
    "                               # These will apply to all objects that were created using this class.\n",
    " \n",
    "particle_0=ParticleA()         # Create a new particle\n",
    "particle_0.position=.5         # Set position of particle 0\n",
    "                               # This is the position variable\n",
    "                               # of object 0\n",
    "\n",
    "particle_1=ParticleA()         # Create another particle\n",
    "particle_1.position=.1         # Set position of particle 1\n",
    "                               # This is the position variable\n",
    "                               # of object 1\n",
    "\n",
    "\n",
    "print(f\"Particle 0 has mass {particle_0.mass} and is at position {particle_0.position}.\")\n",
    "print(f\"Particle 1 has mass {particle_1.mass} and is at position {particle_1.position}.\")\n",
    "\n",
    "# Access class variable by using . followed by the class. Access object variable by using . followed by object.\n",
    "# Alterations to objects do not affect classes or other objects"
   ]
  },
  {
   "cell_type": "markdown",
   "id": "80a5a4f4",
   "metadata": {},
   "source": [
    "### 1.4 Making it more scalable"
   ]
  },
  {
   "cell_type": "code",
   "execution_count": 49,
   "id": "936fef98",
   "metadata": {},
   "outputs": [],
   "source": [
    "class Particle1D:\n",
    "    mass=None\n",
    "    position=None\n",
    "    radius=None\n",
    "\n",
    "# Make all the particles identical\n",
    "Particle1D.mass=99\n",
    "Particle1D.radius=.01\n",
    "\n",
    "# Create a list of particles\n",
    "all_particles=[Particle1D()]\n",
    "all_particles+=[Particle1D()]\n",
    "all_particles+=[Particle1D()]\n",
    "\n",
    "# Initialise with a random position\n",
    "i = 0\n",
    "all_particles[i].position=np.random.rand()\n",
    "\n",
    "i += 1\n",
    "all_particles[i].position=np.random.rand()\n",
    "\n",
    "i += 1\n",
    "all_particles[i].position=np.random.rand()"
   ]
  },
  {
   "cell_type": "code",
   "execution_count": 52,
   "id": "916d9866",
   "metadata": {},
   "outputs": [
    {
     "name": "stdout",
     "output_type": "stream",
     "text": [
      "Particle 0 has mass 99 and is at position 0.30218368030757536.\n"
     ]
    }
   ],
   "source": [
    "i = 0\n",
    "print(f'Particle {i} has mass {all_particles[i].mass} and is at position {all_particles[i].position}.')"
   ]
  },
  {
   "cell_type": "code",
   "execution_count": 53,
   "id": "f116509b",
   "metadata": {},
   "outputs": [
    {
     "name": "stdout",
     "output_type": "stream",
     "text": [
      "Particle 1 has mass 99 and is at position 0.5074174786764815.\n"
     ]
    }
   ],
   "source": [
    "i += 1\n",
    "print(f'Particle {i} has mass {all_particles[i].mass} and is at position {all_particles[i].position}.')"
   ]
  },
  {
   "cell_type": "code",
   "execution_count": 54,
   "id": "78ae3927",
   "metadata": {},
   "outputs": [
    {
     "name": "stdout",
     "output_type": "stream",
     "text": [
      "Particle 2 has mass 99 and is at position 0.3395716012845027.\n"
     ]
    }
   ],
   "source": [
    "i += 1\n",
    "print(f'Particle {i} has mass {all_particles[i].mass} and is at position {all_particles[i].position}.')"
   ]
  }
 ],
 "metadata": {
  "kernelspec": {
   "display_name": "Python 3 (ipykernel)",
   "language": "python",
   "name": "python3"
  },
  "language_info": {
   "codemirror_mode": {
    "name": "ipython",
    "version": 3
   },
   "file_extension": ".py",
   "mimetype": "text/x-python",
   "name": "python",
   "nbconvert_exporter": "python",
   "pygments_lexer": "ipython3",
   "version": "3.10.8"
  },
  "toc": {
   "base_numbering": 1,
   "nav_menu": {},
   "number_sections": true,
   "sideBar": true,
   "skip_h1_title": false,
   "title_cell": "Table of Contents",
   "title_sidebar": "Contents",
   "toc_cell": false,
   "toc_position": {},
   "toc_section_display": true,
   "toc_window_display": false
  },
  "varInspector": {
   "cols": {
    "lenName": 16,
    "lenType": 16,
    "lenVar": 40
   },
   "kernels_config": {
    "python": {
     "delete_cmd_postfix": "",
     "delete_cmd_prefix": "del ",
     "library": "var_list.py",
     "varRefreshCmd": "print(var_dic_list())"
    },
    "r": {
     "delete_cmd_postfix": ") ",
     "delete_cmd_prefix": "rm(",
     "library": "var_list.r",
     "varRefreshCmd": "cat(var_dic_list()) "
    }
   },
   "types_to_exclude": [
    "module",
    "function",
    "builtin_function_or_method",
    "instance",
    "_Feature"
   ],
   "window_display": false
  },
  "vscode": {
   "interpreter": {
    "hash": "31f2aee4e71d21fbe5cf8b01ff0e069b9275f58929596ceb00d14d90e3e16cd6"
   }
  }
 },
 "nbformat": 4,
 "nbformat_minor": 5
}
