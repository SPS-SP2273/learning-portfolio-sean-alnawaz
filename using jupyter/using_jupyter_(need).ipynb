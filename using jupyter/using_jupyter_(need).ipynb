{
 "cells": [
  {
   "cell_type": "markdown",
   "id": "123456",
   "metadata": {},
   "source": [
    "<div style=\"text-align:left;font-size:2em\"><span style=\"font-weight:bolder;font-size:1.25em\">SP2273 | Learning Portfolio</span><br><br><span style=\"font-weight:bold;color:darkred\">Using Jupyter (Need)</span></div>"
   ]
  },
  {
   "cell_type": "markdown",
   "id": "fdf2dbdc",
   "metadata": {},
   "source": [
    "## 1 Getting started with Jupyter"
   ]
  },
  {
   "cell_type": "markdown",
   "id": "db08e537",
   "metadata": {},
   "source": [
    "### 1.1 Its all about running cells"
   ]
  },
  {
   "cell_type": "markdown",
   "id": "2407c789",
   "metadata": {},
   "source": [
    "test\n"
   ]
  },
  {
   "cell_type": "markdown",
   "id": "a52019c5",
   "metadata": {},
   "source": [
    "### 1.2 A traditional start"
   ]
  },
  {
   "cell_type": "code",
   "execution_count": 2,
   "id": "b3018a61",
   "metadata": {},
   "outputs": [
    {
     "name": "stdout",
     "output_type": "stream",
     "text": [
      "Hello World!\n"
     ]
    }
   ],
   "source": [
    "\n",
    "print('Hello World!')\n"
   ]
  },
  {
   "cell_type": "markdown",
   "id": "7dfa3e40",
   "metadata": {},
   "source": [
    "## 2 All about Markdown"
   ]
  },
  {
   "cell_type": "markdown",
   "id": "d66aca3a",
   "metadata": {},
   "source": [
    "### 2.1 Rendering Markdown cells"
   ]
  },
  {
   "cell_type": "markdown",
   "id": "02fa8e2e",
   "metadata": {},
   "source": [
    "The ships hung in the sky in much the same way that bricks don't.\n"
   ]
  },
  {
   "cell_type": "markdown",
   "id": "7a635949",
   "metadata": {},
   "source": [
    "### 2.2 Some basic syntax"
   ]
  },
  {
   "cell_type": "markdown",
   "id": "e3eaa532",
   "metadata": {},
   "source": [
    "\n",
    "The ships *hung in the sky* in much the same way that **bricks don't.**<sup>1</sup><sub>QUOTE</sub>\n"
   ]
  },
  {
   "cell_type": "markdown",
   "id": "86a77aa8",
   "metadata": {},
   "source": [
    "### 2.3 Headings"
   ]
  },
  {
   "cell_type": "markdown",
   "id": "67830c42",
   "metadata": {},
   "source": [
    "### Fact 135\n",
    "### If you have trouble with simple counting, use the following mnemonic device: one comes before two comes before 60 comes after 12 comes before six trillion comes after 504. This will make your earlier counting difficulties seem like no big deal.\n",
    "###### Brought to you by Core #149"
   ]
  },
  {
   "cell_type": "markdown",
   "id": "7edebaf4",
   "metadata": {},
   "source": [
    "### 2.4 Displaying Code"
   ]
  },
  {
   "cell_type": "markdown",
   "id": "e58f880a",
   "metadata": {},
   "source": [
    "```python\n",
    "print('Hello World!')\n",
    "```"
   ]
  },
  {
   "cell_type": "markdown",
   "id": "0d2a1416",
   "metadata": {},
   "source": [
    "### 2.5 Links"
   ]
  },
  {
   "cell_type": "markdown",
   "id": "c05cdb62",
   "metadata": {},
   "source": [
    "\n",
    "[SP2273 Website](https://sps.nus.edu.sg/sp2273)\n"
   ]
  },
  {
   "cell_type": "markdown",
   "id": "acb2ac55",
   "metadata": {},
   "source": [
    "### 2.6 Images"
   ]
  },
  {
   "cell_type": "markdown",
   "id": "e56f0452",
   "metadata": {},
   "source": [
    "![](https://nus.edu.sg/images/default-source/base/logo.png)"
   ]
  },
  {
   "cell_type": "markdown",
   "id": "61313de1",
   "metadata": {},
   "source": [
    "### 2.7 Tables"
   ]
  },
  {
   "cell_type": "markdown",
   "id": "fc13efc9",
   "metadata": {},
   "source": [
    "|A|B|C|\n",
    "|:---|:--:|---:|\n",
    "|a1|b1|c1|\n",
    "|a2|b2|c2|\n",
    "|a3|b3|c3|\n"
   ]
  },
  {
   "cell_type": "markdown",
   "id": "b9caf91e",
   "metadata": {},
   "source": [
    "### 2.8 Lists"
   ]
  },
  {
   "cell_type": "markdown",
   "id": "118bcdd1",
   "metadata": {},
   "source": [
    "1. A\n",
    "1. B\n",
    "1. C\n",
    "---\n",
    "- A1\n",
    "- B1\n",
    "- C1\n",
    "---\n",
    "1. A\n",
    "    - A1\n",
    "1. B\n",
    "    - B1\n",
    "    - B2\n",
    "1. C\n",
    "    - C1\n"
   ]
  },
  {
   "cell_type": "markdown",
   "id": "f2bb64d9",
   "metadata": {},
   "source": [
    "### 2.9 Equations"
   ]
  },
  {
   "cell_type": "markdown",
   "id": "608b7b6c",
   "metadata": {},
   "source": [
    "$$\n",
    "x=\\frac{-b \\pm \\sqrt{b^2-4ac}}{2a}\n",
    "$$"
   ]
  },
  {
   "cell_type": "markdown",
   "id": "d3457610",
   "metadata": {},
   "source": [
    "## Exercise 1 :  Put it in Markdown"
   ]
  },
  {
   "cell_type": "markdown",
   "id": "eea0850b",
   "metadata": {},
   "source": [
    "**Quadratic Equations**\n",
    "\n",
    "![](https://upload.wikimedia.org/wikipedia/commons/thumb/f/f8/Polynomialdeg2.svg/300px-Polynomialdeg2.svg.png)\n",
    "\n",
    "(*Image from the [Wikipedia page on Quadratic Equations](https://en.wikipedia.org/wiki/Quadratic_equation)*)\n",
    "\n",
    "**Introduction**\n",
    "\n",
    "The general form of a quadratic equation is:\n",
    "\n",
    "$$ ax^2 + bx + c = 0 $$\n",
    "\n",
    "**Solutions**\n",
    "\n",
    "Provided $a\\ne0$, we can use an elementary algebraic method called [completing the square](https://en.wikipedia.org/wiki/Completing_the_square) to show that a quadratic equation has the following solution:\n",
    "\n",
    "$$ x = \\frac{-b\\pm \\sqrt{b^2-4ac}}{2a} $$\n",
    "\n",
    "\n",
    "**Discriminant**\n",
    "\n",
    "The quantity $\\Delta=b^2-4ac$ is called the discriminant of the equation and decides the nature of its solutions. The table below shows the various possibilities.\n",
    "\n",
    "|**Discriminant** | **Roots**|\n",
    "|:---:|:---|\n",
    "|$$\\Delta=b^2-4ac=0$$|A single solution of $-\\frac{b}{2a}$|\n",
    "|$$\\Delta=b^2-4ac>0$$|Two distinct solutions|\n",
    "|$$\\Delta=b^2-4ac<0$$|No real solutions; both are complex.|\n",
    "\n"
   ]
  },
  {
   "cell_type": "markdown",
   "id": "2adb6fea",
   "metadata": {},
   "source": [
    "## Exercise 2 :  In your own words"
   ]
  },
  {
   "cell_type": "markdown",
   "id": "c4d770b6",
   "metadata": {},
   "source": [
    "1. What is a **repository**?\n",
    "    - A folder that stores all the files of a project, along with their individual revision history\n",
    "    \n",
    "    \n",
    "2. Git keeps track of _____ in the files in our respository.\n",
    "    - changes\n",
    "\n",
    "\n",
    "3. What is a **commit**?\n",
    "    - A local record of changes to one or more files in the respository.\n",
    "\n",
    "\n",
    "4. What is a **push**?\n",
    "    - Uploading local changes to the remote repository\n",
    "\n",
    "\n",
    "5. What is the difference between **GitHub** and **GitHub Desktop**?\n",
    "    - \"GitHub\" refers to the browser version of the application, where the remote repository can be found. \"GitHub Desktop\" refers to the desktop version of the application, where the local repository can be managed.\n",
    "\n",
    "\n",
    "6. Is there an 'opposite' to a **push**?\n",
    "    - A pull refers to downloading any altered/missing files to a local repository in order to \"synchronise\" with the remote repository."
   ]
  }
 ],
 "metadata": {
  "kernelspec": {
   "display_name": "Python 3 (ipykernel)",
   "language": "python",
   "name": "python3"
  },
  "language_info": {
   "codemirror_mode": {
    "name": "ipython",
    "version": 3
   },
   "file_extension": ".py",
   "mimetype": "text/x-python",
   "name": "python",
   "nbconvert_exporter": "python",
   "pygments_lexer": "ipython3",
   "version": "3.10.8"
  },
  "toc": {
   "base_numbering": 1,
   "nav_menu": {},
   "number_sections": true,
   "sideBar": true,
   "skip_h1_title": false,
   "title_cell": "Table of Contents",
   "title_sidebar": "Contents",
   "toc_cell": false,
   "toc_position": {},
   "toc_section_display": true,
   "toc_window_display": false
  },
  "varInspector": {
   "cols": {
    "lenName": 16,
    "lenType": 16,
    "lenVar": 40
   },
   "kernels_config": {
    "python": {
     "delete_cmd_postfix": "",
     "delete_cmd_prefix": "del ",
     "library": "var_list.py",
     "varRefreshCmd": "print(var_dic_list())"
    },
    "r": {
     "delete_cmd_postfix": ") ",
     "delete_cmd_prefix": "rm(",
     "library": "var_list.r",
     "varRefreshCmd": "cat(var_dic_list()) "
    }
   },
   "types_to_exclude": [
    "module",
    "function",
    "builtin_function_or_method",
    "instance",
    "_Feature"
   ],
   "window_display": false
  },
  "vscode": {
   "interpreter": {
    "hash": "31f2aee4e71d21fbe5cf8b01ff0e069b9275f58929596ceb00d14d90e3e16cd6"
   }
  }
 },
 "nbformat": 4,
 "nbformat_minor": 5
}
