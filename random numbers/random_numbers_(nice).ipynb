{
 "cells": [
  {
   "cell_type": "markdown",
   "id": "123456",
   "metadata": {},
   "source": [
    "<div style=\"text-align:left;font-size:2em\"><span style=\"font-weight:bolder;font-size:1.25em\">SP2273 | Learning Portfolio</span><br><br><span style=\"font-weight:bold;color:darkred\">Random Numbers (Nice)</span></div>"
   ]
  },
  {
   "cell_type": "markdown",
   "id": "70a13298",
   "metadata": {},
   "source": [
    "## 1 MC strategy for integration"
   ]
  },
  {
   "cell_type": "markdown",
   "id": "0f56a574",
   "metadata": {},
   "source": [
    "## Explore 3 :  Monte Carlo Integration"
   ]
  },
  {
   "cell_type": "code",
   "execution_count": 78,
   "id": "c4fd74d7",
   "metadata": {},
   "outputs": [],
   "source": [
    "def f(x):\n",
    "    return x**2 * (np.sin(x*2.))**2"
   ]
  },
  {
   "cell_type": "code",
   "execution_count": 70,
   "id": "0819146f",
   "metadata": {},
   "outputs": [
    {
     "name": "stdout",
     "output_type": "stream",
     "text": [
      "6.07 s ± 67.8 ms per loop (mean ± std. dev. of 7 runs, 1 loop each)\n"
     ]
    }
   ],
   "source": [
    "%%timeit\n",
    "\n",
    "n = 1_000_000\n",
    "x = np.random.uniform(low=2, high=3, size=n)\n",
    "y = np.random.uniform(low=0, high=6, size=n)\n",
    "coords = list(zip(x,y))\n",
    "\n",
    "n_below = 0\n",
    "\n",
    "for i in coords:\n",
    "    if i[1] <= f(i[0]):\n",
    "        n_below += 1\n",
    "\n",
    "blue_area = n_below / n * 6"
   ]
  },
  {
   "cell_type": "markdown",
   "id": "399696d4",
   "metadata": {},
   "source": [
    "## 2 Another MC strategy for integration"
   ]
  },
  {
   "cell_type": "markdown",
   "id": "817e012e",
   "metadata": {},
   "source": [
    "### 2.1 Some theory"
   ]
  },
  {
   "cell_type": "code",
   "execution_count": 88,
   "id": "04b04340",
   "metadata": {
    "code_folding": []
   },
   "outputs": [
    {
     "data": {
      "text/plain": [
       "0.022910000676172267"
      ]
     },
     "execution_count": 88,
     "metadata": {},
     "output_type": "execute_result"
    }
   ],
   "source": [
    "f_list = []\n",
    "\n",
    "for i in range(2,3,100):\n",
    "    y = f(i)\n",
    "    f_list.append(y)\n",
    "    \n",
    "testarea = (3-2)*(1/100)*sum(f_list)\n",
    "\n",
    "testarea"
   ]
  },
  {
   "cell_type": "markdown",
   "id": "16f9b8a3",
   "metadata": {},
   "source": [
    "## Explore 4 :  Integration with an estimator"
   ]
  },
  {
   "cell_type": "code",
   "execution_count": 93,
   "id": "1cfaf05c",
   "metadata": {},
   "outputs": [
    {
     "name": "stdout",
     "output_type": "stream",
     "text": [
      "5.42 s ± 12.5 ms per loop (mean ± std. dev. of 7 runs, 1 loop each)\n"
     ]
    }
   ],
   "source": [
    "%%timeit\n",
    "\n",
    "n = 1_000_000\n",
    "\n",
    "sum_list=[f(i) for i in list(np.arange(2, 3, 1/n))]\n",
    "\n",
    "area = (3-2)*(1/n)*sum(sum_list)"
   ]
  },
  {
   "cell_type": "code",
   "execution_count": 92,
   "id": "9f2755c4",
   "metadata": {},
   "outputs": [
    {
     "data": {
      "text/plain": [
       "4.064738320493117"
      ]
     },
     "execution_count": 92,
     "metadata": {},
     "output_type": "execute_result"
    }
   ],
   "source": [
    "area"
   ]
  }
 ],
 "metadata": {
  "kernelspec": {
   "display_name": "Python 3 (ipykernel)",
   "language": "python",
   "name": "python3"
  },
  "language_info": {
   "codemirror_mode": {
    "name": "ipython",
    "version": 3
   },
   "file_extension": ".py",
   "mimetype": "text/x-python",
   "name": "python",
   "nbconvert_exporter": "python",
   "pygments_lexer": "ipython3",
   "version": "3.10.8"
  },
  "nbTranslate": {
   "displayLangs": [
    "*"
   ],
   "hotkey": "alt-t",
   "langInMainMenu": true,
   "sourceLang": "en",
   "targetLang": "fr",
   "useGoogleTranslate": true
  },
  "toc": {
   "base_numbering": 1,
   "nav_menu": {},
   "number_sections": true,
   "sideBar": true,
   "skip_h1_title": false,
   "title_cell": "Table of Contents",
   "title_sidebar": "Contents",
   "toc_cell": false,
   "toc_position": {},
   "toc_section_display": true,
   "toc_window_display": false
  },
  "varInspector": {
   "cols": {
    "lenName": 16,
    "lenType": 16,
    "lenVar": 40
   },
   "kernels_config": {
    "python": {
     "delete_cmd_postfix": "",
     "delete_cmd_prefix": "del ",
     "library": "var_list.py",
     "varRefreshCmd": "print(var_dic_list())"
    },
    "r": {
     "delete_cmd_postfix": ") ",
     "delete_cmd_prefix": "rm(",
     "library": "var_list.r",
     "varRefreshCmd": "cat(var_dic_list()) "
    }
   },
   "types_to_exclude": [
    "module",
    "function",
    "builtin_function_or_method",
    "instance",
    "_Feature"
   ],
   "window_display": false
  },
  "vscode": {
   "interpreter": {
    "hash": "31f2aee4e71d21fbe5cf8b01ff0e069b9275f58929596ceb00d14d90e3e16cd6"
   }
  }
 },
 "nbformat": 4,
 "nbformat_minor": 5
}
