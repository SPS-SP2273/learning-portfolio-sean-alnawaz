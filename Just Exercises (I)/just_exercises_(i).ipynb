{
 "cells": [
  {
   "cell_type": "markdown",
   "id": "123456",
   "metadata": {},
   "source": [
    "<div style=\"text-align:left;font-size:2em\"><span style=\"font-weight:bolder;font-size:1.25em\">SP2273 | Learning Portfolio</span><br><br><span style=\"font-weight:bold;color:darkred\">Just Exercises (I)</span></div>"
   ]
  },
  {
   "cell_type": "markdown",
   "id": "c1c0962b",
   "metadata": {},
   "source": [
    "## Exercise 1 :  F-strings to the rescue"
   ]
  },
  {
   "cell_type": "code",
   "execution_count": 43,
   "id": "5d13211f",
   "metadata": {
    "scrolled": true
   },
   "outputs": [
    {
     "name": "stdout",
     "output_type": "stream",
     "text": [
      "00001\n",
      "00002\n",
      "00003\n",
      "00004\n",
      "00005\n",
      "00006\n",
      "00007\n",
      "00008\n",
      "00009\n",
      "00010\n"
     ]
    }
   ],
   "source": [
    "number = 1\n",
    "\n",
    "while number <= 10:\n",
    "    print(f'{number:05d}')\n",
    "    number += 1"
   ]
  },
  {
   "cell_type": "code",
   "execution_count": 18,
   "id": "c8d48de7",
   "metadata": {},
   "outputs": [
    {
     "name": "stdout",
     "output_type": "stream",
     "text": [
      "001          +\n",
      "002         ++\n",
      "003        +++\n",
      "004       ++++\n",
      "005      +++++\n",
      "006     ++++++\n",
      "007    +++++++\n",
      "008   ++++++++\n",
      "009  +++++++++\n",
      "010 ++++++++++\n"
     ]
    }
   ],
   "source": [
    "number = 1\n",
    "\n",
    "for number in range(1,11):\n",
    "    print(f\"{number:03d} {'+'*number:>10}\")      # "
   ]
  },
  {
   "cell_type": "code",
   "execution_count": 20,
   "id": "f636dec0",
   "metadata": {},
   "outputs": [
    {
     "name": "stdout",
     "output_type": "stream",
     "text": [
      "001 -+++++++++\n",
      "002 --++++++++\n",
      "003 ---+++++++\n",
      "004 ----++++++\n",
      "005 -----+++++\n",
      "006 ------++++\n",
      "007 -------+++\n",
      "008 --------++\n",
      "009 ---------+\n",
      "010 ----------\n"
     ]
    }
   ],
   "source": [
    "number = 1\n",
    "\n",
    "while number <= 10:\n",
    "    print(f\"{number:03d} {'-'*number+'+'*(10-number):<3}\")\n",
    "    number += 1"
   ]
  },
  {
   "cell_type": "code",
   "execution_count": 35,
   "id": "187f5528",
   "metadata": {},
   "outputs": [
    {
     "data": {
      "text/plain": [
       "['bruce_exploits.txt',\n",
       " 'bruce_enemies.txt',\n",
       " 'bruce_friends.txt',\n",
       " 'natasha_exploits.txt',\n",
       " 'natasha_enemies.txt',\n",
       " 'natasha_friends.txt',\n",
       " 'tony_exploits.txt',\n",
       " 'tony_enemies.txt',\n",
       " 'tony_friends.txt']"
      ]
     },
     "execution_count": 35,
     "metadata": {},
     "output_type": "execute_result"
    }
   ],
   "source": [
    "names = ['bruce', 'natasha', 'tony']\n",
    "infos = ['exploits', 'enemies', 'friends']\n",
    "txtlist = []\n",
    "\n",
    "for name in names:\n",
    "    for info in infos:\n",
    "        txtlist.append(f\"{name}_{info}.txt\")\n",
    "\n",
    "txtlist"
   ]
  },
  {
   "cell_type": "code",
   "execution_count": 29,
   "id": "933c3718",
   "metadata": {},
   "outputs": [
    {
     "data": {
      "text/plain": [
       "['data_sg_exp-01_trial-001.txt',\n",
       " 'data_sg_exp-01_trial-002.txt',\n",
       " 'data_sg_exp-01_trial-003.txt',\n",
       " 'data_sg_exp-01_trial-004.txt',\n",
       " 'data_sg_exp-01_trial-005.txt',\n",
       " 'data_sg_exp-01_trial-006.txt',\n",
       " 'data_sg_exp-01_trial-007.txt',\n",
       " 'data_sg_exp-01_trial-008.txt',\n",
       " 'data_sg_exp-01_trial-009.txt',\n",
       " 'data_sg_exp-01_trial-010.txt',\n",
       " 'data_sg_exp-01_trial-011.txt',\n",
       " 'data_sg_exp-01_trial-012.txt',\n",
       " 'data_sg_exp-01_trial-013.txt',\n",
       " 'data_sg_exp-01_trial-014.txt',\n",
       " 'data_sg_exp-01_trial-015.txt',\n",
       " 'data_sg_exp-01_trial-016.txt',\n",
       " 'data_sg_exp-01_trial-017.txt',\n",
       " 'data_sg_exp-01_trial-018.txt',\n",
       " 'data_sg_exp-01_trial-019.txt',\n",
       " 'data_sg_exp-01_trial-020.txt',\n",
       " 'data_sg_exp-01_trial-021.txt',\n",
       " 'data_sg_exp-01_trial-022.txt',\n",
       " 'data_sg_exp-01_trial-023.txt',\n",
       " 'data_sg_exp-01_trial-024.txt',\n",
       " 'data_sg_exp-01_trial-025.txt',\n",
       " 'data_sg_exp-01_trial-026.txt',\n",
       " 'data_sg_exp-01_trial-027.txt',\n",
       " 'data_sg_exp-01_trial-028.txt',\n",
       " 'data_sg_exp-01_trial-029.txt',\n",
       " 'data_sg_exp-01_trial-030.txt',\n",
       " 'data_sg_exp-01_trial-031.txt',\n",
       " 'data_sg_exp-01_trial-032.txt',\n",
       " 'data_sg_exp-01_trial-033.txt',\n",
       " 'data_sg_exp-01_trial-034.txt',\n",
       " 'data_sg_exp-01_trial-035.txt',\n",
       " 'data_sg_exp-01_trial-036.txt',\n",
       " 'data_sg_exp-01_trial-037.txt',\n",
       " 'data_sg_exp-01_trial-038.txt',\n",
       " 'data_sg_exp-01_trial-039.txt',\n",
       " 'data_sg_exp-01_trial-040.txt',\n",
       " 'data_sg_exp-01_trial-041.txt',\n",
       " 'data_sg_exp-01_trial-042.txt',\n",
       " 'data_sg_exp-01_trial-043.txt',\n",
       " 'data_sg_exp-01_trial-044.txt',\n",
       " 'data_sg_exp-01_trial-045.txt',\n",
       " 'data_sg_exp-01_trial-046.txt',\n",
       " 'data_sg_exp-01_trial-047.txt',\n",
       " 'data_sg_exp-01_trial-048.txt',\n",
       " 'data_sg_exp-01_trial-049.txt',\n",
       " 'data_sg_exp-01_trial-050.txt',\n",
       " 'data_sg_exp-02_trial-001.txt',\n",
       " 'data_sg_exp-02_trial-002.txt',\n",
       " 'data_sg_exp-02_trial-003.txt',\n",
       " 'data_sg_exp-02_trial-004.txt',\n",
       " 'data_sg_exp-02_trial-005.txt',\n",
       " 'data_sg_exp-02_trial-006.txt',\n",
       " 'data_sg_exp-02_trial-007.txt',\n",
       " 'data_sg_exp-02_trial-008.txt',\n",
       " 'data_sg_exp-02_trial-009.txt',\n",
       " 'data_sg_exp-02_trial-010.txt',\n",
       " 'data_sg_exp-02_trial-011.txt',\n",
       " 'data_sg_exp-02_trial-012.txt',\n",
       " 'data_sg_exp-02_trial-013.txt',\n",
       " 'data_sg_exp-02_trial-014.txt',\n",
       " 'data_sg_exp-02_trial-015.txt',\n",
       " 'data_sg_exp-02_trial-016.txt',\n",
       " 'data_sg_exp-02_trial-017.txt',\n",
       " 'data_sg_exp-02_trial-018.txt',\n",
       " 'data_sg_exp-02_trial-019.txt',\n",
       " 'data_sg_exp-02_trial-020.txt',\n",
       " 'data_sg_exp-02_trial-021.txt',\n",
       " 'data_sg_exp-02_trial-022.txt',\n",
       " 'data_sg_exp-02_trial-023.txt',\n",
       " 'data_sg_exp-02_trial-024.txt',\n",
       " 'data_sg_exp-02_trial-025.txt',\n",
       " 'data_sg_exp-02_trial-026.txt',\n",
       " 'data_sg_exp-02_trial-027.txt',\n",
       " 'data_sg_exp-02_trial-028.txt',\n",
       " 'data_sg_exp-02_trial-029.txt',\n",
       " 'data_sg_exp-02_trial-030.txt',\n",
       " 'data_sg_exp-02_trial-031.txt',\n",
       " 'data_sg_exp-02_trial-032.txt',\n",
       " 'data_sg_exp-02_trial-033.txt',\n",
       " 'data_sg_exp-02_trial-034.txt',\n",
       " 'data_sg_exp-02_trial-035.txt',\n",
       " 'data_sg_exp-02_trial-036.txt',\n",
       " 'data_sg_exp-02_trial-037.txt',\n",
       " 'data_sg_exp-02_trial-038.txt',\n",
       " 'data_sg_exp-02_trial-039.txt',\n",
       " 'data_sg_exp-02_trial-040.txt',\n",
       " 'data_sg_exp-02_trial-041.txt',\n",
       " 'data_sg_exp-02_trial-042.txt',\n",
       " 'data_sg_exp-02_trial-043.txt',\n",
       " 'data_sg_exp-02_trial-044.txt',\n",
       " 'data_sg_exp-02_trial-045.txt',\n",
       " 'data_sg_exp-02_trial-046.txt',\n",
       " 'data_sg_exp-02_trial-047.txt',\n",
       " 'data_sg_exp-02_trial-048.txt',\n",
       " 'data_sg_exp-02_trial-049.txt',\n",
       " 'data_sg_exp-02_trial-050.txt',\n",
       " 'data_sg_exp-03_trial-001.txt',\n",
       " 'data_sg_exp-03_trial-002.txt',\n",
       " 'data_sg_exp-03_trial-003.txt',\n",
       " 'data_sg_exp-03_trial-004.txt',\n",
       " 'data_sg_exp-03_trial-005.txt',\n",
       " 'data_sg_exp-03_trial-006.txt',\n",
       " 'data_sg_exp-03_trial-007.txt',\n",
       " 'data_sg_exp-03_trial-008.txt',\n",
       " 'data_sg_exp-03_trial-009.txt',\n",
       " 'data_sg_exp-03_trial-010.txt',\n",
       " 'data_sg_exp-03_trial-011.txt',\n",
       " 'data_sg_exp-03_trial-012.txt',\n",
       " 'data_sg_exp-03_trial-013.txt',\n",
       " 'data_sg_exp-03_trial-014.txt',\n",
       " 'data_sg_exp-03_trial-015.txt',\n",
       " 'data_sg_exp-03_trial-016.txt',\n",
       " 'data_sg_exp-03_trial-017.txt',\n",
       " 'data_sg_exp-03_trial-018.txt',\n",
       " 'data_sg_exp-03_trial-019.txt',\n",
       " 'data_sg_exp-03_trial-020.txt',\n",
       " 'data_sg_exp-03_trial-021.txt',\n",
       " 'data_sg_exp-03_trial-022.txt',\n",
       " 'data_sg_exp-03_trial-023.txt',\n",
       " 'data_sg_exp-03_trial-024.txt',\n",
       " 'data_sg_exp-03_trial-025.txt',\n",
       " 'data_sg_exp-03_trial-026.txt',\n",
       " 'data_sg_exp-03_trial-027.txt',\n",
       " 'data_sg_exp-03_trial-028.txt',\n",
       " 'data_sg_exp-03_trial-029.txt',\n",
       " 'data_sg_exp-03_trial-030.txt',\n",
       " 'data_sg_exp-03_trial-031.txt',\n",
       " 'data_sg_exp-03_trial-032.txt',\n",
       " 'data_sg_exp-03_trial-033.txt',\n",
       " 'data_sg_exp-03_trial-034.txt',\n",
       " 'data_sg_exp-03_trial-035.txt',\n",
       " 'data_sg_exp-03_trial-036.txt',\n",
       " 'data_sg_exp-03_trial-037.txt',\n",
       " 'data_sg_exp-03_trial-038.txt',\n",
       " 'data_sg_exp-03_trial-039.txt',\n",
       " 'data_sg_exp-03_trial-040.txt',\n",
       " 'data_sg_exp-03_trial-041.txt',\n",
       " 'data_sg_exp-03_trial-042.txt',\n",
       " 'data_sg_exp-03_trial-043.txt',\n",
       " 'data_sg_exp-03_trial-044.txt',\n",
       " 'data_sg_exp-03_trial-045.txt',\n",
       " 'data_sg_exp-03_trial-046.txt',\n",
       " 'data_sg_exp-03_trial-047.txt',\n",
       " 'data_sg_exp-03_trial-048.txt',\n",
       " 'data_sg_exp-03_trial-049.txt',\n",
       " 'data_sg_exp-03_trial-050.txt']"
      ]
     },
     "execution_count": 29,
     "metadata": {},
     "output_type": "execute_result"
    }
   ],
   "source": [
    "exp = 1\n",
    "trial = 1\n",
    "explist = []\n",
    "\n",
    "for exp in range(1,4):\n",
    "    for trial in range(1,51):\n",
    "        explist.append(f\"data_sg_exp-{exp:02d}_trial-{trial:03d}.txt\")\n",
    "\n",
    "explist "
   ]
  },
  {
   "cell_type": "markdown",
   "id": "34ff2012",
   "metadata": {},
   "source": [
    "## Exercise 2 :  Tutti frutti"
   ]
  },
  {
   "cell_type": "code",
   "execution_count": 2,
   "id": "f87d17af",
   "metadata": {},
   "outputs": [
    {
     "name": "stdout",
     "output_type": "stream",
     "text": [
      "a e\n",
      "b a\n",
      "p e\n",
      "j t\n",
      "p h\n",
      "d n\n",
      "w n\n",
      "m o\n",
      "s y\n",
      "p t\n"
     ]
    }
   ],
   "source": [
    "# 'mango' is an element in the list\n",
    "\n",
    "fruits = [\"apple\", \"banana\", \"pineapple\", \"jackfruit\",\n",
    "        \"peach\", \"durian\", \"watermelon\", \"mango\",\n",
    "        \"strawberry\", \"passionfruit\"]\n",
    "\n",
    "for fruit in fruits:\n",
    "    print(fruit[0],fruit[-1])"
   ]
  },
  {
   "cell_type": "code",
   "execution_count": 3,
   "id": "b22a1397",
   "metadata": {},
   "outputs": [
    {
     "name": "stdout",
     "output_type": "stream",
     "text": [
      "apple\n",
      "banana\n",
      "PINEAPPLE\n",
      "jackfruit\n",
      "PEACH\n",
      "durian\n",
      "watermelon\n",
      "mango\n",
      "strawberry\n",
      "PASSIONFRUIT\n"
     ]
    }
   ],
   "source": [
    "for fruit in fruits:\n",
    "    if fruit[0].lower() == 'p':\n",
    "        fruit = fruit.upper()\n",
    "        print(fruit)\n",
    "    \n",
    "    else:\n",
    "        print(fruit)"
   ]
  },
  {
   "cell_type": "code",
   "execution_count": 4,
   "id": "0a1961cb",
   "metadata": {},
   "outputs": [
    {
     "data": {
      "text/plain": [
       "['apple',\n",
       " 'banana',\n",
       " 'pineapple',\n",
       " 'jackfruit',\n",
       " 'peach',\n",
       " 'durian',\n",
       " 'watermelon',\n",
       " 'mango',\n",
       " 'strawberry',\n",
       " 'passionfruit',\n",
       " 'dragon fruit',\n",
       " 'apricots',\n",
       " 'oranges']"
      ]
     },
     "execution_count": 4,
     "metadata": {},
     "output_type": "execute_result"
    }
   ],
   "source": [
    "addfruits = [\"dragon fruit\", \"apricots\", \"oranges\"]\n",
    "\n",
    "newfruits = fruits.copy() + addfruits\n",
    "\n",
    "newfruits"
   ]
  },
  {
   "cell_type": "code",
   "execution_count": 5,
   "id": "92366ccf",
   "metadata": {},
   "outputs": [
    {
     "data": {
      "text/plain": [
       "['dragon fruit',\n",
       " 'apricots',\n",
       " 'oranges',\n",
       " 'apple',\n",
       " 'banana',\n",
       " 'pineapple',\n",
       " 'jackfruit',\n",
       " 'peach',\n",
       " 'durian',\n",
       " 'watermelon',\n",
       " 'mango',\n",
       " 'strawberry',\n",
       " 'passionfruit']"
      ]
     },
     "execution_count": 5,
     "metadata": {},
     "output_type": "execute_result"
    }
   ],
   "source": [
    "newerfruits = addfruits + fruits.copy()\n",
    "\n",
    "newerfruits"
   ]
  },
  {
   "cell_type": "code",
   "execution_count": 6,
   "id": "b752119f",
   "metadata": {},
   "outputs": [
    {
     "data": {
      "text/plain": [
       "['apple',\n",
       " 'banana',\n",
       " 'pineapple',\n",
       " 'jackfruit',\n",
       " 'peach',\n",
       " 'dragon fruit',\n",
       " 'apricots',\n",
       " 'oranges',\n",
       " 'durian',\n",
       " 'watermelon',\n",
       " 'mango',\n",
       " 'strawberry',\n",
       " 'passionfruit']"
      ]
     },
     "execution_count": 6,
     "metadata": {},
     "output_type": "execute_result"
    }
   ],
   "source": [
    "newestfruits = fruits.copy()[:int(len(fruits)/2)] + addfruits + fruits.copy()[int(len(fruits)/2):]\n",
    "\n",
    "newestfruits"
   ]
  },
  {
   "cell_type": "code",
   "execution_count": 7,
   "id": "77556313",
   "metadata": {},
   "outputs": [
    {
     "data": {
      "text/plain": [
       "['pineapple', 'jackfruit', 'watermelon', 'strawberry', 'passionfruit']"
      ]
     },
     "execution_count": 7,
     "metadata": {},
     "output_type": "execute_result"
    }
   ],
   "source": [
    "[fruit for fruit in fruits if len(fruit)>8]"
   ]
  },
  {
   "cell_type": "markdown",
   "id": "45b016f9",
   "metadata": {},
   "source": [
    "## Exercise 3 :  Ciao Fibonacci"
   ]
  },
  {
   "cell_type": "code",
   "execution_count": 19,
   "id": "b69cb564",
   "metadata": {},
   "outputs": [
    {
     "data": {
      "text/plain": [
       "[0, 1, 1, 2, 3, 5, 8, 13, 21, 34, 55, 89, 144, 233, 377]"
      ]
     },
     "execution_count": 19,
     "metadata": {},
     "output_type": "execute_result"
    }
   ],
   "source": [
    "fibonacci=[0, 1]\n",
    "\n",
    "for i in range(13):\n",
    "    fibonacci.append(fibonacci[-1]+fibonacci[-2])\n",
    "\n",
    "fibonacci"
   ]
  },
  {
   "cell_type": "markdown",
   "id": "90800d61",
   "metadata": {},
   "source": [
    "## Exercise 4 :  A function for Fibonacci"
   ]
  },
  {
   "cell_type": "code",
   "execution_count": 55,
   "id": "d2618fec",
   "metadata": {},
   "outputs": [
    {
     "name": "stdout",
     "output_type": "stream",
     "text": [
      "Please input the desired length of the Fibonacci Sequence:lol no\n",
      "This is not a valid input!\n"
     ]
    }
   ],
   "source": [
    "fibo = [0,1]\n",
    "\n",
    "def fibonacci(n):\n",
    "    if n >= 2:\n",
    "        for i in range(n-2):\n",
    "            fibo.append(fibo[-1]+fibo[-2])\n",
    "    elif n == 1:\n",
    "        fibo.remove(1)\n",
    "    elif n == 0:\n",
    "        return 'No sequence printed.'\n",
    "    elif n < 0:\n",
    "        return \"A negative sequence can't be printed!!\"\n",
    "        \n",
    "    return fibo\n",
    "\n",
    "try:\n",
    "    n = int(input(\"Please input the desired length of the Fibonacci Sequence:\"))\n",
    "    print(fibonacci(n))\n",
    "except ValueError:\n",
    "    print(\"This is not a valid input!\")"
   ]
  },
  {
   "cell_type": "markdown",
   "id": "55450f98",
   "metadata": {},
   "source": [
    "## Exercise 5 :  max_info() without NumPy"
   ]
  },
  {
   "cell_type": "code",
   "execution_count": 164,
   "id": "8f255d1e",
   "metadata": {},
   "outputs": [
    {
     "data": {
      "text/plain": [
       "'The maximum value in this list is 83, at index 2'"
      ]
     },
     "execution_count": 164,
     "metadata": {},
     "output_type": "execute_result"
    }
   ],
   "source": [
    "def max_info(numbers):\n",
    "    my_max = 0\n",
    "    my_max_index = 0\n",
    "\n",
    "    for i in numbers:\n",
    "        if i > my_max:\n",
    "            my_max = i\n",
    "            my_max_index = numbers.index(i)\n",
    "    \n",
    "    return f\"The maximum value in this list is {my_max}, at index {my_max_index}\"\n",
    "            \n",
    "numbers = [40, 27, 83, 44, 74, 51, 76, 77, 10, 49]\n",
    "        \n",
    "max_info(numbers)"
   ]
  },
  {
   "cell_type": "markdown",
   "id": "d1f162e1",
   "metadata": {},
   "source": [
    "## Exercise 6 :  Take count"
   ]
  },
  {
   "cell_type": "code",
   "execution_count": 102,
   "id": "206dd1e8",
   "metadata": {},
   "outputs": [
    {
     "data": {
      "text/plain": [
       "254"
      ]
     },
     "execution_count": 102,
     "metadata": {},
     "output_type": "execute_result"
    }
   ],
   "source": [
    "tcount_0 = 0\n",
    "\n",
    "for nuc in [i for i in dna]:                      # Using list comprehension to split sequence\n",
    "    if nuc == \"T\":\n",
    "        tcount_0 += 1\n",
    "\n",
    "tcount_0                                          # Finding number of T using for loop"
   ]
  },
  {
   "cell_type": "code",
   "execution_count": 119,
   "id": "e33e8c77",
   "metadata": {},
   "outputs": [
    {
     "data": {
      "text/plain": [
       "254"
      ]
     },
     "execution_count": 119,
     "metadata": {},
     "output_type": "execute_result"
    }
   ],
   "source": [
    "t = 1\n",
    "a = 1\n",
    "splitdna = [i for i in dna]\n",
    "\n",
    "len([t for nuc in splitdna if nuc == \"T\"])        # Finding number of T using list comprehension"
   ]
  },
  {
   "cell_type": "code",
   "execution_count": 128,
   "id": "81b5bb7d",
   "metadata": {},
   "outputs": [
    {
     "name": "stdout",
     "output_type": "stream",
     "text": [
      "{'T': 254, 'A': 247, 'G': 249, 'C': 250}\n"
     ]
    }
   ],
   "source": [
    "dna = \"AGGCAAGAAGCTAGAATTCTGGCCTGAGTATCTCAGTACAGGCGCAGTCGAATCTTCCGGAATCACATTGCTCGCGCTTAAACCCGCTCTAAACCTTTGAGTAATTCGACGACATTGGGTTCCCTCCGACGCTGTCTGACAACTCTTTAAGATCCTTGGCACGATGTCGATAGACATTGTCCCTGATGACGCCTCACAAGGTAACCTGGCTCTAGTAGGGTGGTCTTTGCTGCGGAACTTACCACCTGGTGGATCCAAGCACCAGAGGAGTTCGAAGAGGCTGGGGTACCCCCTATTTAGGAAGGGCGAGACTACGGTCACAAATTCCAAATGGCTTCCCTCGATTCATGACGCCAGAATGCCTGGCTGTGCCAATTTGTCGCCTTGCGTCGTTCTGTCAATCTTTACTCGTGTCGTGTTGTGATAAATGACAAACCCTGCACAACGTAGGGCTCACACAAGGGAATCTAGAGTATCCGATACAGGGAGCTTTAGCTTCCGTCCCTTATAGCCTGCCATATTCTTGCGGTAGCACGAGCCTCAGATCTTCTCACTCCGGAAATGGGAGCTTCGACGGTCAAGGGCTAAGACGTCTTCGGGAGAAATACCTAGGCGATGACCCTGAGTGGTTTTCCGCGTATAACTCATCCTGGTTGCAAATGATTACCGTTATAGCCTGGGGATATGCCTCAATTCCGAACCCAGGAGCATCACTCGAGCAATAGCGGTAAAGGAGGCTATTAGCAAAATTGTCACGATAAGCGCCGTTGTAGTGAAATTAAGATACATACATCGTTTAGCACATCACTCTCACGGCGTCTAGAAGCTGATCTTCATATGCTGACTCAGAAGGCTCGGATAATAGAGGACGAAGGTAGTTTACTCATCGCTGCCCCGACTATTACGTGTGCATGATAAAGTCTGACCCTGACGTTCCCAAGCCGAGGCAGAGGGGTTTTACGCTGAATGTCCGCTCTCTGTCGGATGATTTCGGAAGCTG\"\n",
    "\n",
    "dna2 = list(dna)                                  # Using list() to split sequence\n",
    "\n",
    "tcount = 0                                        # Establishing nucleotide count variables\n",
    "acount = 0\n",
    "gcount = 0\n",
    "ccount = 0\n",
    "\n",
    "for nuc in dna2:                                  # Using for loop and if/elif to count each nucleotide.\n",
    "    if nuc == \"T\":\n",
    "        tcount += 1\n",
    "    elif nuc == \"A\":\n",
    "        acount += 1\n",
    "    elif nuc == \"G\":\n",
    "        gcount += 1\n",
    "    elif nuc == \"C\":\n",
    "        ccount += 1\n",
    "\n",
    "nucleotide = {\"T\": tcount, \"A\": acount, \"G\": gcount, \"C\":ccount}\n",
    "\n",
    "print(nucleotide)"
   ]
  },
  {
   "cell_type": "code",
   "execution_count": 124,
   "id": "3aa27ba6",
   "metadata": {},
   "outputs": [
    {
     "data": {
      "text/plain": [
       "(array(['A', 'C', 'G', 'T'], dtype='<U1'),\n",
       " array([247, 250, 249, 254], dtype=int64))"
      ]
     },
     "execution_count": 124,
     "metadata": {},
     "output_type": "execute_result"
    }
   ],
   "source": [
    "np_dna2 = np.array(dna2)\n",
    "\n",
    "np.unique(np_dna2, return_counts=True)           # Using Numpy to count."
   ]
  },
  {
   "cell_type": "code",
   "execution_count": 142,
   "id": "93f56a9f",
   "metadata": {},
   "outputs": [
    {
     "data": {
      "text/plain": [
       "['AGGC',\n",
       " 'AAGA',\n",
       " 'AGCT',\n",
       " 'AGAA',\n",
       " 'TTCT',\n",
       " 'GGCC',\n",
       " 'TGAG',\n",
       " 'TATC',\n",
       " 'TCAG',\n",
       " 'TACA',\n",
       " 'GGCG',\n",
       " 'CAGT',\n",
       " 'CGAA',\n",
       " 'TCTT',\n",
       " 'CCGG',\n",
       " 'AATC',\n",
       " 'ACAT',\n",
       " 'TGCT',\n",
       " 'CGCG',\n",
       " 'CTTA',\n",
       " 'AACC',\n",
       " 'CGCT',\n",
       " 'CTAA',\n",
       " 'ACCT',\n",
       " 'TTGA',\n",
       " 'GTAA',\n",
       " 'TTCG',\n",
       " 'ACGA',\n",
       " 'CATT',\n",
       " 'GGGT',\n",
       " 'TCCC',\n",
       " 'TCCG',\n",
       " 'ACGC',\n",
       " 'TGTC',\n",
       " 'TGAC',\n",
       " 'AACT',\n",
       " 'CTTT',\n",
       " 'AAGA',\n",
       " 'TCCT',\n",
       " 'TGGC',\n",
       " 'ACGA',\n",
       " 'TGTC',\n",
       " 'GATA',\n",
       " 'GACA',\n",
       " 'TTGT',\n",
       " 'CCCT',\n",
       " 'GATG',\n",
       " 'ACGC',\n",
       " 'CTCA',\n",
       " 'CAAG',\n",
       " 'GTAA',\n",
       " 'CCTG',\n",
       " 'GCTC',\n",
       " 'TAGT',\n",
       " 'AGGG',\n",
       " 'TGGT',\n",
       " 'CTTT',\n",
       " 'GCTG',\n",
       " 'CGGA',\n",
       " 'ACTT',\n",
       " 'ACCA',\n",
       " 'CCTG',\n",
       " 'GTGG',\n",
       " 'ATCC',\n",
       " 'AAGC',\n",
       " 'ACCA',\n",
       " 'GAGG',\n",
       " 'AGTT',\n",
       " 'CGAA',\n",
       " 'GAGG',\n",
       " 'CTGG',\n",
       " 'GGTA',\n",
       " 'CCCC',\n",
       " 'CTAT',\n",
       " 'TTAG',\n",
       " 'GAAG',\n",
       " 'GGCG',\n",
       " 'AGAC',\n",
       " 'TACG',\n",
       " 'GTCA',\n",
       " 'CAAA',\n",
       " 'TTCC',\n",
       " 'AAAT',\n",
       " 'GGCT',\n",
       " 'TCCC',\n",
       " 'TCGA',\n",
       " 'TTCA',\n",
       " 'TGAC',\n",
       " 'GCCA',\n",
       " 'GAAT',\n",
       " 'GCCT',\n",
       " 'GGCT',\n",
       " 'GTGC',\n",
       " 'CAAT',\n",
       " 'TTGT',\n",
       " 'CGCC',\n",
       " 'TTGC',\n",
       " 'GTCG',\n",
       " 'TTCT',\n",
       " 'GTCA',\n",
       " 'ATCT',\n",
       " 'TTAC',\n",
       " 'TCGT',\n",
       " 'GTCG',\n",
       " 'TGTT',\n",
       " 'GTGA',\n",
       " 'TAAA',\n",
       " 'TGAC',\n",
       " 'AAAC',\n",
       " 'CCTG',\n",
       " 'CACA',\n",
       " 'ACGT',\n",
       " 'AGGG',\n",
       " 'CTCA',\n",
       " 'CACA',\n",
       " 'AGGG',\n",
       " 'AATC',\n",
       " 'TAGA',\n",
       " 'GTAT',\n",
       " 'CCGA',\n",
       " 'TACA',\n",
       " 'GGGA',\n",
       " 'GCTT',\n",
       " 'TAGC',\n",
       " 'TTCC',\n",
       " 'GTCC',\n",
       " 'CTTA',\n",
       " 'TAGC',\n",
       " 'CTGC',\n",
       " 'CATA',\n",
       " 'TTCT',\n",
       " 'TGCG',\n",
       " 'GTAG',\n",
       " 'CACG',\n",
       " 'AGCC',\n",
       " 'TCAG',\n",
       " 'ATCT',\n",
       " 'TCTC',\n",
       " 'ACTC',\n",
       " 'CGGA',\n",
       " 'AATG',\n",
       " 'GGAG',\n",
       " 'CTTC',\n",
       " 'GACG',\n",
       " 'GTCA',\n",
       " 'AGGG',\n",
       " 'CTAA',\n",
       " 'GACG',\n",
       " 'TCTT',\n",
       " 'CGGG',\n",
       " 'AGAA',\n",
       " 'ATAC',\n",
       " 'CTAG',\n",
       " 'GCGA',\n",
       " 'TGAC',\n",
       " 'CCTG',\n",
       " 'AGTG',\n",
       " 'GTTT',\n",
       " 'TCCG',\n",
       " 'CGTA',\n",
       " 'TAAC',\n",
       " 'TCAT',\n",
       " 'CCTG',\n",
       " 'GTTG',\n",
       " 'CAAA',\n",
       " 'TGAT',\n",
       " 'TACC',\n",
       " 'GTTA',\n",
       " 'TAGC',\n",
       " 'CTGG',\n",
       " 'GGAT',\n",
       " 'ATGC',\n",
       " 'CTCA',\n",
       " 'ATTC',\n",
       " 'CGAA',\n",
       " 'CCCA',\n",
       " 'GGAG',\n",
       " 'CATC',\n",
       " 'ACTC',\n",
       " 'GAGC',\n",
       " 'AATA',\n",
       " 'GCGG',\n",
       " 'TAAA',\n",
       " 'GGAG',\n",
       " 'GCTA',\n",
       " 'TTAG',\n",
       " 'CAAA',\n",
       " 'ATTG',\n",
       " 'TCAC',\n",
       " 'GATA',\n",
       " 'AGCG',\n",
       " 'CCGT',\n",
       " 'TGTA',\n",
       " 'GTGA',\n",
       " 'AATT',\n",
       " 'AAGA',\n",
       " 'TACA',\n",
       " 'TACA',\n",
       " 'TCGT',\n",
       " 'TTAG',\n",
       " 'CACA',\n",
       " 'TCAC',\n",
       " 'TCTC',\n",
       " 'ACGG',\n",
       " 'CGTC',\n",
       " 'TAGA',\n",
       " 'AGCT',\n",
       " 'GATC',\n",
       " 'TTCA',\n",
       " 'TATG',\n",
       " 'CTGA',\n",
       " 'CTCA',\n",
       " 'GAAG',\n",
       " 'GCTC',\n",
       " 'GGAT',\n",
       " 'AATA',\n",
       " 'GAGG',\n",
       " 'ACGA',\n",
       " 'AGGT',\n",
       " 'AGTT',\n",
       " 'TACT',\n",
       " 'CATC',\n",
       " 'GCTG',\n",
       " 'CCCC',\n",
       " 'GACT',\n",
       " 'ATTA',\n",
       " 'CGTG',\n",
       " 'TGCA',\n",
       " 'TGAT',\n",
       " 'AAAG',\n",
       " 'TCTG',\n",
       " 'ACCC',\n",
       " 'TGAC',\n",
       " 'GTTC',\n",
       " 'CCAA',\n",
       " 'GCCG',\n",
       " 'AGGC',\n",
       " 'AGAG',\n",
       " 'GGGT',\n",
       " 'TTTA',\n",
       " 'CGCT',\n",
       " 'GAAT',\n",
       " 'GTCC',\n",
       " 'GCTC',\n",
       " 'TCTG',\n",
       " 'TCGG',\n",
       " 'ATGA',\n",
       " 'TTTC',\n",
       " 'GGAA',\n",
       " 'GCTG']"
      ]
     },
     "execution_count": 142,
     "metadata": {},
     "output_type": "execute_result"
    }
   ],
   "source": [
    "fourdna = []\n",
    "\n",
    "for i in range(0, len(dna), 4):\n",
    "    fourdna.append(dna[i:i+4])\n",
    "\n",
    "fourdna"
   ]
  }
 ],
 "metadata": {
  "kernelspec": {
   "display_name": "Python 3 (ipykernel)",
   "language": "python",
   "name": "python3"
  },
  "language_info": {
   "codemirror_mode": {
    "name": "ipython",
    "version": 3
   },
   "file_extension": ".py",
   "mimetype": "text/x-python",
   "name": "python",
   "nbconvert_exporter": "python",
   "pygments_lexer": "ipython3",
   "version": "3.10.8"
  },
  "nbTranslate": {
   "displayLangs": [
    "*"
   ],
   "hotkey": "alt-t",
   "langInMainMenu": true,
   "sourceLang": "en",
   "targetLang": "fr",
   "useGoogleTranslate": true
  },
  "toc": {
   "base_numbering": 1,
   "nav_menu": {},
   "number_sections": true,
   "sideBar": true,
   "skip_h1_title": false,
   "title_cell": "Table of Contents",
   "title_sidebar": "Contents",
   "toc_cell": false,
   "toc_position": {},
   "toc_section_display": true,
   "toc_window_display": false
  },
  "varInspector": {
   "cols": {
    "lenName": 16,
    "lenType": 16,
    "lenVar": 40
   },
   "kernels_config": {
    "python": {
     "delete_cmd_postfix": "",
     "delete_cmd_prefix": "del ",
     "library": "var_list.py",
     "varRefreshCmd": "print(var_dic_list())"
    },
    "r": {
     "delete_cmd_postfix": ") ",
     "delete_cmd_prefix": "rm(",
     "library": "var_list.r",
     "varRefreshCmd": "cat(var_dic_list()) "
    }
   },
   "types_to_exclude": [
    "module",
    "function",
    "builtin_function_or_method",
    "instance",
    "_Feature"
   ],
   "window_display": false
  },
  "vscode": {
   "interpreter": {
    "hash": "31f2aee4e71d21fbe5cf8b01ff0e069b9275f58929596ceb00d14d90e3e16cd6"
   }
  }
 },
 "nbformat": 4,
 "nbformat_minor": 5
}
