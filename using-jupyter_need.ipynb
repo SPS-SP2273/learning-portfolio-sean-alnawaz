{
 "cells": [
  {
   "cell_type": "code",
   "execution_count": 1,
   "id": "3c3c8dde",
   "metadata": {},
   "outputs": [
    {
     "name": "stdout",
     "output_type": "stream",
     "text": [
      "Hello World!\n"
     ]
    }
   ],
   "source": [
    "print('Hello World!')"
   ]
  },
  {
   "cell_type": "markdown",
   "id": "6f7ce510",
   "metadata": {},
   "source": [
    "The ships *hung in the sky* in much the same way that **bricks don't.**<sup>1</sup><sub>QUOTE</sub>"
   ]
  },
  {
   "cell_type": "markdown",
   "id": "21a77145",
   "metadata": {},
   "source": [
    "### Fact 135\n",
    "### If you have trouble with simple counting, use the following mnemonic device: one comes before two comes before 60 comes after 12 comes before six trillion comes after 504. This will make your earlier counting difficulties seem like no big deal.\n",
    "###### Brought to you by Core #149"
   ]
  },
  {
   "cell_type": "markdown",
   "id": "530ef024",
   "metadata": {},
   "source": [
    "```python\n",
    "print('Hello World!')\n",
    "```"
   ]
  },
  {
   "cell_type": "markdown",
   "id": "40b7f048",
   "metadata": {},
   "source": [
    "[SP2273 Website](https://sps.nus.edu.sg/sp2273)"
   ]
  },
  {
   "cell_type": "markdown",
   "id": "3d900b0a",
   "metadata": {},
   "source": [
    "![](https://nus.edu.sg/images/default-source/base/logo.png)"
   ]
  },
  {
   "cell_type": "markdown",
   "id": "a17298c9",
   "metadata": {},
   "source": [
    "|A|B|C|\n",
    "|:---|:--:|---:|\n",
    "|a1|b1|c1|\n",
    "|a2|b2|c2|\n",
    "|a3|b3|c3|"
   ]
  },
  {
   "cell_type": "markdown",
   "id": "78f79422",
   "metadata": {},
   "source": [
    "1. A\n",
    "1. B\n",
    "1. C\n",
    "---\n",
    "- A1\n",
    "- B1\n",
    "- C1\n",
    "---\n",
    "1. A\n",
    "    - A1\n",
    "1. B\n",
    "    - B1\n",
    "    - B2\n",
    "1. C\n",
    "    - C1"
   ]
  },
  {
   "cell_type": "markdown",
   "id": "99acea00",
   "metadata": {},
   "source": [
    "$$\n",
    "x=\\frac{-b \\pm \\sqrt{b^2-4ac}}{2a}\n",
    "$$"
   ]
  },
  {
   "cell_type": "markdown",
   "id": "80d4b77e",
   "metadata": {},
   "source": [
    "**Quadratic Equations**\n",
    "\n",
    "![](https://upload.wikimedia.org/wikipedia/commons/thumb/f/f8/Polynomialdeg2.svg/300px-Polynomialdeg2.svg.png)\n",
    "\n",
    "(*Image from the [Wikipedia page on Quadratic Equations](https://en.wikipedia.org/wiki/Quadratic_equation)*)\n",
    "\n",
    "**Introduction**\n",
    "\n",
    "The general form of a quadratic equation is:\n",
    "\n",
    "$$ ax^2 + bx + c = 0 $$\n",
    "\n",
    "**Solutions**\n",
    "\n",
    "Provided $a\\ne0$, we can use an elementary algebraic method called [completing the square](https://en.wikipedia.org/wiki/Completing_the_square) to show that a quadratic equation has the following solution:\n",
    "\n",
    "$$ x = \\frac{-b\\pm \\sqrt{b^2-4ac}}{2a} $$\n",
    "\n",
    "\n",
    "**Discriminant**\n",
    "\n",
    "The quantity $\\Delta=b^2-4ac$ is called the discriminant of the equation and decides the nature of its solutions. The table below shows the various possibilities.\n",
    "\n",
    "|**Discriminant** | **Roots**|\n",
    "|:---:|:---|\n",
    "|$$\\Delta=b^2-4ac=0$$|A single solution of $-\\frac{b}{2a}$|\n",
    "|$$\\Delta=b^2-4ac>0$$|Two distinct solutions|\n",
    "|$$\\Delta=b^2-4ac<0$$|No real solutions; both are complex.|\n",
    "\n"
   ]
  },
  {
   "cell_type": "markdown",
   "id": "45f68f17",
   "metadata": {},
   "source": [
    "1. What is a **repository**?\n",
    "    - A folder that stores all the files of a project, along with their individual revision history\n",
    "    \n",
    "    \n",
    "2. Git keeps track of _____ in the files in our respository.\n",
    "    - changes\n",
    "\n",
    "\n",
    "3. What is a **commit**?\n",
    "    - A local record of changes to one or more files in the respository.\n",
    "\n",
    "\n",
    "4. What is a **push**?\n",
    "    - Uploading local changes to the remote repository\n",
    "\n",
    "\n",
    "5. What is the difference between **GitHub** and **GitHub Desktop**?\n",
    "    - \"GitHub\" refers to the browser version of the application, where the remote repository can be found. \"GitHub Desktop\" refers to the desktop version of the application, where the local repository can be managed.\n",
    "\n",
    "\n",
    "6. Is there an 'opposite' to a **push**?\n",
    "    - A pull refers to downloading any altered/missing files to a local repository in order to \"synchronise\" with the remote repository."
   ]
  }
 ],
 "metadata": {
  "kernelspec": {
   "display_name": "Python 3 (ipykernel)",
   "language": "python",
   "name": "python3"
  },
  "language_info": {
   "codemirror_mode": {
    "name": "ipython",
    "version": 3
   },
   "file_extension": ".py",
   "mimetype": "text/x-python",
   "name": "python",
   "nbconvert_exporter": "python",
   "pygments_lexer": "ipython3",
   "version": "3.10.8"
  }
 },
 "nbformat": 4,
 "nbformat_minor": 5
}
