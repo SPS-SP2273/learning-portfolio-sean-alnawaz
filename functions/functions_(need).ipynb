{
 "cells": [
  {
   "cell_type": "markdown",
   "id": "123456",
   "metadata": {},
   "source": [
    "<div style=\"text-align:left;font-size:2em\"><span style=\"font-weight:bolder;font-size:1.25em\">SP2273 | Learning Portfolio</span><br><br><span style=\"font-weight:bold;color:darkred\">Functions (Need)</span></div>"
   ]
  },
  {
   "cell_type": "markdown",
   "id": "24f794ef",
   "metadata": {},
   "source": [
    "## 1 User defined functions"
   ]
  },
  {
   "cell_type": "markdown",
   "id": "16173145",
   "metadata": {},
   "source": [
    "### 1.1 Named functions that return"
   ]
  },
  {
   "cell_type": "code",
   "execution_count": 10,
   "id": "c1e03696",
   "metadata": {},
   "outputs": [
    {
     "data": {
      "text/plain": [
       "'Hello Batman! Nice to meet you!'"
      ]
     },
     "execution_count": 10,
     "metadata": {},
     "output_type": "execute_result"
    }
   ],
   "source": [
    "def greeting(name):\n",
    "\n",
    "    if name == 'Batman':\n",
    "        return 'Hello Batman! Nice to meet you!'\n",
    "    else:\n",
    "        return f'Hello {name}!'\n",
    "\n",
    "greeting('Batman')"
   ]
  },
  {
   "cell_type": "code",
   "execution_count": 13,
   "id": "168afa0d",
   "metadata": {},
   "outputs": [
    {
     "name": "stdout",
     "output_type": "stream",
     "text": [
      "Hello Batman! Nice to meet you!\n"
     ]
    }
   ],
   "source": [
    "greet=greeting(name='Batman')\n",
    "print(greet)"
   ]
  },
  {
   "cell_type": "code",
   "execution_count": 21,
   "id": "4664ca00",
   "metadata": {},
   "outputs": [
    {
     "name": "stdout",
     "output_type": "stream",
     "text": [
      "19 104 52.166666666666664\n"
     ]
    }
   ],
   "source": [
    "def stats(num):\n",
    "    np_numbers = np.array(num)\n",
    "    return np_numbers.min(), np_numbers.max(), np_numbers.mean()\n",
    "\n",
    "listmin, listmax, listmean = stats([104,59,23,85,19,23])\n",
    "print(listmin, listmax, listmean)"
   ]
  },
  {
   "cell_type": "markdown",
   "id": "0832ca5c",
   "metadata": {},
   "source": [
    "### 1.2 Named functions that don’t return"
   ]
  },
  {
   "cell_type": "code",
   "execution_count": 38,
   "id": "3bc64a6a",
   "metadata": {},
   "outputs": [
    {
     "name": "stdout",
     "output_type": "stream",
     "text": [
      "Hello Batman! Nice to meet you!\n"
     ]
    },
    {
     "data": {
      "text/plain": [
       "'Hello Batman! Nice to meet you!'"
      ]
     },
     "execution_count": 38,
     "metadata": {},
     "output_type": "execute_result"
    }
   ],
   "source": [
    "print(greet)  \n",
    "greet"
   ]
  },
  {
   "cell_type": "markdown",
   "id": "64ea520a",
   "metadata": {},
   "source": [
    "### 1.3 Anonymous functions"
   ]
  },
  {
   "cell_type": "code",
   "execution_count": 36,
   "id": "2881af6d",
   "metadata": {},
   "outputs": [
    {
     "data": {
      "text/plain": [
       "[[1, 10, 12], [3, 9, 12], [5, 7, 13], [2, 11, 14], [4, 8, 15]]"
      ]
     },
     "execution_count": 36,
     "metadata": {},
     "output_type": "execute_result"
    }
   ],
   "source": [
    "numbers=[[1, 10, 12],\n",
    "         [2, 11, 14],\n",
    "         [3, 9, 12],\n",
    "         [4, 8, 15],\n",
    "         [5, 7, 13]]\n",
    "\n",
    "sorted(numbers, key = lambda x: x[2])         # lambda <argument> : <expression>    "
   ]
  },
  {
   "cell_type": "code",
   "execution_count": 39,
   "id": "b7a13cb6",
   "metadata": {},
   "outputs": [
    {
     "data": {
      "text/plain": [
       "[[1, 10, 12], [3, 9, 12], [5, 7, 13], [2, 11, 14], [4, 8, 15]]"
      ]
     },
     "execution_count": 39,
     "metadata": {},
     "output_type": "execute_result"
    }
   ],
   "source": [
    "sorted(numbers, key = lambda x: sum(x))"
   ]
  },
  {
   "cell_type": "markdown",
   "id": "0760e413",
   "metadata": {},
   "source": [
    "### 1.4 Optional arguments"
   ]
  },
  {
   "cell_type": "code",
   "execution_count": 47,
   "id": "44c19b37",
   "metadata": {},
   "outputs": [
    {
     "data": {
      "text/plain": [
       "'Welcome John!'"
      ]
     },
     "execution_count": 47,
     "metadata": {},
     "output_type": "execute_result"
    }
   ],
   "source": [
    "def greeting(name = 'John'):\n",
    "    if name == 'Sam':\n",
    "        return 'Welcome Sam! Have a nice day!'\n",
    "    else:\n",
    "        return f'Welcome {name}!'\n",
    "\n",
    "greeting()"
   ]
  },
  {
   "cell_type": "code",
   "execution_count": 48,
   "id": "62ae6740",
   "metadata": {},
   "outputs": [],
   "source": [
    "?print"
   ]
  },
  {
   "cell_type": "code",
   "execution_count": 52,
   "id": "4b07e542",
   "metadata": {},
   "outputs": [
    {
     "name": "stdout",
     "output_type": "stream",
     "text": [
      "I am Batman!\n",
      "I~am~Batman!\n"
     ]
    }
   ],
   "source": [
    "print('I', 'am', 'Batman!')                 \n",
    "print('I', 'am', 'Batman!', sep='~')  "
   ]
  },
  {
   "cell_type": "markdown",
   "id": "b6da9121",
   "metadata": {},
   "source": [
    "## 2 The importance of functions?"
   ]
  },
  {
   "cell_type": "markdown",
   "id": "202aceb5",
   "metadata": {},
   "source": [
    "### 2.1 An argument for functions"
   ]
  },
  {
   "cell_type": "markdown",
   "id": "c67ca0a6",
   "metadata": {},
   "source": [
    ":)"
   ]
  },
  {
   "cell_type": "markdown",
   "id": "964aa008",
   "metadata": {},
   "source": [
    "### 2.2 A word of caution"
   ]
  },
  {
   "cell_type": "markdown",
   "id": "0ee377f3",
   "metadata": {},
   "source": [
    "\n",
    ":)"
   ]
  },
  {
   "cell_type": "markdown",
   "id": "7c1a9626",
   "metadata": {},
   "source": [
    "## Exercise 1 :  Do you know why?"
   ]
  },
  {
   "cell_type": "markdown",
   "id": "b81e2b0c",
   "metadata": {},
   "source": [
    "```\n",
    "def greeting(name): \n",
    "    if name == 'Batman':\n",
    "        return 'Hello Batman! So, nice to meet you!'\n",
    "    return f'Hello {name}!'\n",
    "```\n",
    " \n",
    "An `else` statement is an optional statement that gives a value if the `if` statement returns false. Without it, the first `return` statement will be read only if the `if` statement returns true; otherwise, Python will simply move on to the next piece of code (that is, the second `return` statement, which will exit the function)."
   ]
  },
  {
   "cell_type": "markdown",
   "id": "c2977d52",
   "metadata": {},
   "source": [
    "## Exercise 2 :  Calculator functions"
   ]
  },
  {
   "cell_type": "code",
   "execution_count": 22,
   "id": "b5223acc",
   "metadata": {},
   "outputs": [],
   "source": [
    "def add(x,y):\n",
    "    return x + y\n",
    "\n",
    "def subtract(x,y):\n",
    "    return x - y\n",
    "\n",
    "def multiply(x,y):\n",
    "    return x * y\n",
    "\n",
    "def divide(x,y):\n",
    "    if any(y == 0) == True:\n",
    "        return 'Division by zero is not possible!'\n",
    "    \n",
    "    return x / y"
   ]
  },
  {
   "cell_type": "code",
   "execution_count": 23,
   "id": "19f73b39",
   "metadata": {},
   "outputs": [
    {
     "data": {
      "text/plain": [
       "'Division by zero is not possible!'"
      ]
     },
     "execution_count": 23,
     "metadata": {},
     "output_type": "execute_result"
    }
   ],
   "source": [
    "x=np.array([36, 34, 44, 76, 27])\n",
    "y=np.array([64, 66, 56, 0, 73])\n",
    "\n",
    "divide(x,y)"
   ]
  },
  {
   "cell_type": "markdown",
   "id": "8aa4a055",
   "metadata": {},
   "source": [
    "## Exercise 3 :  max_info() with NumPy"
   ]
  },
  {
   "cell_type": "code",
   "execution_count": 15,
   "id": "88160aa2",
   "metadata": {},
   "outputs": [
    {
     "data": {
      "text/plain": [
       "(83, 2)"
      ]
     },
     "execution_count": 15,
     "metadata": {},
     "output_type": "execute_result"
    }
   ],
   "source": [
    "def max_info(numbers):\n",
    "    np_numbers = np.array(numbers)\n",
    "    return np.max(np_numbers), np.argmax(np_numbers)\n",
    "\n",
    "max_info([40, 27, 83, 44, 74, 51, 76, 77, 10, 49])"
   ]
  }
 ],
 "metadata": {
  "kernelspec": {
   "display_name": "Python 3 (ipykernel)",
   "language": "python",
   "name": "python3"
  },
  "language_info": {
   "codemirror_mode": {
    "name": "ipython",
    "version": 3
   },
   "file_extension": ".py",
   "mimetype": "text/x-python",
   "name": "python",
   "nbconvert_exporter": "python",
   "pygments_lexer": "ipython3",
   "version": "3.10.8"
  },
  "nbTranslate": {
   "displayLangs": [
    "*"
   ],
   "hotkey": "alt-t",
   "langInMainMenu": true,
   "sourceLang": "en",
   "targetLang": "fr",
   "useGoogleTranslate": true
  },
  "toc": {
   "base_numbering": 1,
   "nav_menu": {},
   "number_sections": true,
   "sideBar": true,
   "skip_h1_title": false,
   "title_cell": "Table of Contents",
   "title_sidebar": "Contents",
   "toc_cell": false,
   "toc_position": {},
   "toc_section_display": true,
   "toc_window_display": false
  },
  "varInspector": {
   "cols": {
    "lenName": 16,
    "lenType": 16,
    "lenVar": 40
   },
   "kernels_config": {
    "python": {
     "delete_cmd_postfix": "",
     "delete_cmd_prefix": "del ",
     "library": "var_list.py",
     "varRefreshCmd": "print(var_dic_list())"
    },
    "r": {
     "delete_cmd_postfix": ") ",
     "delete_cmd_prefix": "rm(",
     "library": "var_list.r",
     "varRefreshCmd": "cat(var_dic_list()) "
    }
   },
   "types_to_exclude": [
    "module",
    "function",
    "builtin_function_or_method",
    "instance",
    "_Feature"
   ],
   "window_display": false
  },
  "vscode": {
   "interpreter": {
    "hash": "31f2aee4e71d21fbe5cf8b01ff0e069b9275f58929596ceb00d14d90e3e16cd6"
   }
  }
 },
 "nbformat": 4,
 "nbformat_minor": 5
}
