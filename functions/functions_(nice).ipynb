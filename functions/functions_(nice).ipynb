{
 "cells": [
  {
   "cell_type": "markdown",
   "id": "123456",
   "metadata": {},
   "source": [
    "<div style=\"text-align:left;font-size:2em\"><span style=\"font-weight:bolder;font-size:1.25em\">SP2273 | Learning Portfolio</span><br><br><span style=\"font-weight:bold;color:darkred\">Functions (Nice)</span></div>"
   ]
  },
  {
   "cell_type": "markdown",
   "id": "a3191997",
   "metadata": {},
   "source": [
    "## 1 Other things you can do with functions"
   ]
  },
  {
   "cell_type": "markdown",
   "id": "792cb470",
   "metadata": {},
   "source": [
    "### 1.1 Modularise and reuse"
   ]
  },
  {
   "cell_type": "markdown",
   "id": "69226ccb",
   "metadata": {},
   "source": [
    ":)"
   ]
  },
  {
   "cell_type": "markdown",
   "id": "3a284f35",
   "metadata": {},
   "source": [
    "## 2 *args & **kwarg"
   ]
  },
  {
   "cell_type": "markdown",
   "id": "bf5a8b3b",
   "metadata": {},
   "source": [
    "### 2.1 *args"
   ]
  },
  {
   "cell_type": "code",
   "execution_count": 4,
   "id": "f03e63d7",
   "metadata": {},
   "outputs": [
    {
     "data": {
      "text/plain": [
       "12"
      ]
     },
     "execution_count": 4,
     "metadata": {},
     "output_type": "execute_result"
    }
   ],
   "source": [
    "def multiply(x,y):\n",
    "    return x * y\n",
    "\n",
    "numbers = [3,4]\n",
    "multiply(*numbers)"
   ]
  },
  {
   "cell_type": "code",
   "execution_count": 11,
   "id": "97debeee",
   "metadata": {},
   "outputs": [
    {
     "data": {
      "text/plain": [
       "18.928"
      ]
     },
     "execution_count": 11,
     "metadata": {},
     "output_type": "execute_result"
    }
   ],
   "source": [
    "def multiply(*args):\n",
    "    result = 1\n",
    "    for number in args:\n",
    "        result *= number\n",
    "\n",
    "    return result\n",
    "\n",
    "numbers = [2, 2.6, 0.52, 7]\n",
    "multiply(*numbers)"
   ]
  },
  {
   "cell_type": "markdown",
   "id": "f1f2f206",
   "metadata": {},
   "source": [
    "### 2.2 **kwargs"
   ]
  },
  {
   "cell_type": "code",
   "execution_count": 19,
   "id": "4f311b29",
   "metadata": {},
   "outputs": [
    {
     "data": {
      "text/plain": [
       "24"
      ]
     },
     "execution_count": 19,
     "metadata": {},
     "output_type": "execute_result"
    }
   ],
   "source": [
    "def multiply(x, y, z):\n",
    "    return x * y * z\n",
    "\n",
    "numbers = {'x': 2, 'y': 3, 'z':4}\n",
    "multiply(**numbers)"
   ]
  },
  {
   "cell_type": "code",
   "execution_count": 20,
   "id": "d52f3abd",
   "metadata": {},
   "outputs": [
    {
     "data": {
      "text/plain": [
       "30"
      ]
     },
     "execution_count": 20,
     "metadata": {},
     "output_type": "execute_result"
    }
   ],
   "source": [
    "numbers = {'y': 3, 'z': 5}\n",
    "multiply(2, **numbers)"
   ]
  },
  {
   "cell_type": "code",
   "execution_count": 24,
   "id": "fcadaaf0",
   "metadata": {},
   "outputs": [
    {
     "data": {
      "text/plain": [
       "11.665161349761227"
      ]
     },
     "execution_count": 24,
     "metadata": {},
     "output_type": "execute_result"
    }
   ],
   "source": [
    "def add_powers(numbers, power):\n",
    "    result = 1\n",
    "    for num in numbers:\n",
    "        result *= num**power\n",
    "          \n",
    "    return result\n",
    "\n",
    "kwargs = {'numbers': [3, 4, 5], 'power': 0.6}\n",
    "add_powers(**kwargs)"
   ]
  },
  {
   "cell_type": "code",
   "execution_count": 26,
   "id": "3a651966",
   "metadata": {},
   "outputs": [
    {
     "data": {
      "text/plain": [
       "576"
      ]
     },
     "execution_count": 26,
     "metadata": {},
     "output_type": "execute_result"
    }
   ],
   "source": [
    "def add_powers(**kwargs):\n",
    "    numbers = kwargs['numbers']\n",
    "    power = kwargs['power']\n",
    "    \n",
    "    result = 1\n",
    "    for number in numbers:\n",
    "        result *= number**power\n",
    "        \n",
    "    return result\n",
    "\n",
    "add_powers(numbers = [2, 3, 4], power=2)"
   ]
  },
  {
   "cell_type": "markdown",
   "id": "15fbe27b",
   "metadata": {},
   "source": [
    "### 2.3 Passing variable to functions"
   ]
  },
  {
   "cell_type": "code",
   "execution_count": 27,
   "id": "d0bf8367",
   "metadata": {},
   "outputs": [
    {
     "name": "stdout",
     "output_type": "stream",
     "text": [
      "BEFORE\t--->\tNumber: 10, Array: [10], List: [10]\n"
     ]
    }
   ],
   "source": [
    "def do_something(inside_number, inside_array, inside_list):\n",
    "    print('Doing something!')\n",
    "    inside_number *= 2\n",
    "    inside_array *= 2\n",
    "    inside_list *= 2\n",
    "\n",
    "outside_number=10\n",
    "outside_array=np.array([10])\n",
    "outside_list=[10]\n",
    "\n",
    "print(\n",
    "    f\"BEFORE\\t--->\\tNumber: {outside_number}, Array: {outside_array}, List: {outside_list}\")"
   ]
  },
  {
   "cell_type": "code",
   "execution_count": 28,
   "id": "8ee6a441",
   "metadata": {},
   "outputs": [
    {
     "name": "stdout",
     "output_type": "stream",
     "text": [
      "Doing something!\n"
     ]
    }
   ],
   "source": [
    "do_something(outside_number, outside_list, outside_array)"
   ]
  },
  {
   "cell_type": "code",
   "execution_count": 29,
   "id": "199e52df",
   "metadata": {},
   "outputs": [
    {
     "name": "stdout",
     "output_type": "stream",
     "text": [
      "AFTER\t--->\tNumber: 10, Array: [20], List: [10, 10]\n"
     ]
    }
   ],
   "source": [
    "print(f\"AFTER\\t--->\\tNumber: {outside_number}, Array: {outside_array}, List: {outside_list}\")\n",
    "\n",
    "# immutable variables, like numbers, that are outside of a function, do not get affected by what happens in the function.\n",
    "# mutable variables, like lists and arrays, that are outside of a function, are affected by what happens in the function."
   ]
  },
  {
   "cell_type": "markdown",
   "id": "631fd4c1",
   "metadata": {},
   "source": [
    "## 3 There is more to exceptions"
   ]
  },
  {
   "cell_type": "markdown",
   "id": "6c75caba",
   "metadata": {},
   "source": [
    "### 3.1 A list of exceptions"
   ]
  },
  {
   "cell_type": "markdown",
   "id": "e985218f",
   "metadata": {},
   "source": [
    "|Exception|Description|\n",
    "|:--|:--|\n",
    "|`AssertionError`|Raised when the assert statement fails.|\n",
    "|`AttributeError`|Raised when the attribute assignment or reference fails.|\n",
    "|`EOFError`|Raised when the input() function hits the end-of-file condition.|\n",
    "|`FloatingPointError`|Raised when a floating point operation fails.|\n",
    "|`ImportError`|Raised when the imported module is not found.|\n",
    "|`IndexError`|Raised when the index of a sequence is out of range.|\n",
    "|`KeyError`|Raised when a key is not found in a dictionary.|\n",
    "|`NameError`|Raised when a variable is not found in the local or global scope.|\n",
    "|`OSError`|Raised when a system operation causes a system-related error.|\n",
    "|`OverflowError`|Raised when the result of an arithmetic operation is too large to be represented.|\n",
    "|`RuntimeError`|Raised when an error does not fall under any other category.|\n",
    "|`SyntaxError`|Raised by the parser when a syntax error is encountered.|\n",
    "|`IndentationError`|Raised when there is an incorrect indentation.|\n",
    "|`SystemError`|Raised when the interpreter detects internal error.|\n",
    "|`SystemExit`|Raised by the sys.exit() function.|\n",
    "|`TypeError`|Raised when a function or operation is applied to an object of an incorrect type.|\n",
    "|`UnboundLocalError`|Raised when a reference is made to a local variable in a function or method, but no value has been bound to that variable.|\n",
    "|`ValueError`|Raised when a function gets an argument of correct type but improper value.|\n",
    "|`ZeroDivisionError`|Raised when the second operand of a division or module operation is zero.|"
   ]
  },
  {
   "cell_type": "markdown",
   "id": "87b20782",
   "metadata": {},
   "source": [
    "### 3.2 Handling specific exceptions"
   ]
  },
  {
   "cell_type": "code",
   "execution_count": 30,
   "id": "7e2df89b",
   "metadata": {},
   "outputs": [
    {
     "name": "stdout",
     "output_type": "stream",
     "text": [
      "Give me a number and I will calculate its square.hi\n",
      "Oh no! I cannot square hi!\n"
     ]
    }
   ],
   "source": [
    "try:\n",
    "    number=input(\"Give me a number and I will calculate its square.\")\n",
    "    square=int(number)**2\n",
    "    print(f'The square of {number} is {square}!')\n",
    "except ValueError:\n",
    "    print(f\"Oh no! I cannot square {number}!\")"
   ]
  },
  {
   "cell_type": "markdown",
   "id": "ef625b37",
   "metadata": {},
   "source": [
    "### 3.3 try also has an else"
   ]
  },
  {
   "cell_type": "code",
   "execution_count": 4,
   "id": "49388e5d",
   "metadata": {},
   "outputs": [
    {
     "name": "stdout",
     "output_type": "stream",
     "text": [
      "Give me a number and I will calculate its squareroot.-2\n",
      "This is a negative number!\n",
      "Everything worked!\n"
     ]
    }
   ],
   "source": [
    "try:\n",
    "    number = float(input(\"Give me a number and I will calculate its squareroot.\"))\n",
    "    if number < 0:\n",
    "        print('This is a negative number!')\n",
    "    else:\n",
    "        root = float(number)**0.5\n",
    "        print(f'The squareroot of {number} is {root}!')\n",
    "\n",
    "except ValueError:\n",
    "    print(f\"Oh no! I cannot squareroot {number}!\")\n",
    "else: print('Everything worked!')"
   ]
  },
  {
   "cell_type": "markdown",
   "id": "e2dd9d20",
   "metadata": {},
   "source": [
    "## Explore 1 :  Modularise"
   ]
  },
  {
   "cell_type": "code",
   "execution_count": 2,
   "id": "9b45a30b",
   "metadata": {},
   "outputs": [
    {
     "data": {
      "text/plain": [
       "8"
      ]
     },
     "execution_count": 2,
     "metadata": {},
     "output_type": "execute_result"
    }
   ],
   "source": [
    "import math_functions\n",
    "\n",
    "math_functions.add(3,5)"
   ]
  },
  {
   "cell_type": "code",
   "execution_count": 3,
   "id": "01cccc7c",
   "metadata": {},
   "outputs": [
    {
     "data": {
      "text/plain": [
       "8"
      ]
     },
     "execution_count": 3,
     "metadata": {},
     "output_type": "execute_result"
    }
   ],
   "source": [
    "from math_functions import multiply as times\n",
    "times(2,4)"
   ]
  },
  {
   "cell_type": "markdown",
   "id": "7fa130d2",
   "metadata": {},
   "source": [
    "## Explore 2 :  Angles and trig functions"
   ]
  },
  {
   "cell_type": "code",
   "execution_count": 6,
   "id": "6612af74",
   "metadata": {},
   "outputs": [
    {
     "data": {
      "text/plain": [
       "[[180, 1.0], [360, -1.0], [90, 0.9999999999999999]]"
      ]
     },
     "execution_count": 6,
     "metadata": {},
     "output_type": "execute_result"
    }
   ],
   "source": [
    "def trig_function(*args,**kwargs):\n",
    "    result = []\n",
    "    functions = kwargs ['functions']\n",
    "    for i, angle in enumerate(args):\n",
    "        trig_function_value = functions[i](angle/360 * np.pi)\n",
    "        result.append([angle, trig_function_value])\n",
    "        \n",
    "    return(result)\n",
    "\n",
    "trig_function(180, 360, 90, functions = [np.sin, np.cos, np.tan])"
   ]
  }
 ],
 "metadata": {
  "kernelspec": {
   "display_name": "Python 3 (ipykernel)",
   "language": "python",
   "name": "python3"
  },
  "language_info": {
   "codemirror_mode": {
    "name": "ipython",
    "version": 3
   },
   "file_extension": ".py",
   "mimetype": "text/x-python",
   "name": "python",
   "nbconvert_exporter": "python",
   "pygments_lexer": "ipython3",
   "version": "3.10.8"
  },
  "nbTranslate": {
   "displayLangs": [
    "*"
   ],
   "hotkey": "alt-t",
   "langInMainMenu": true,
   "sourceLang": "en",
   "targetLang": "fr",
   "useGoogleTranslate": true
  },
  "toc": {
   "base_numbering": 1,
   "nav_menu": {},
   "number_sections": true,
   "sideBar": true,
   "skip_h1_title": false,
   "title_cell": "Table of Contents",
   "title_sidebar": "Contents",
   "toc_cell": false,
   "toc_position": {},
   "toc_section_display": true,
   "toc_window_display": false
  },
  "varInspector": {
   "cols": {
    "lenName": 16,
    "lenType": 16,
    "lenVar": 40
   },
   "kernels_config": {
    "python": {
     "delete_cmd_postfix": "",
     "delete_cmd_prefix": "del ",
     "library": "var_list.py",
     "varRefreshCmd": "print(var_dic_list())"
    },
    "r": {
     "delete_cmd_postfix": ") ",
     "delete_cmd_prefix": "rm(",
     "library": "var_list.r",
     "varRefreshCmd": "cat(var_dic_list()) "
    }
   },
   "types_to_exclude": [
    "module",
    "function",
    "builtin_function_or_method",
    "instance",
    "_Feature"
   ],
   "window_display": false
  },
  "vscode": {
   "interpreter": {
    "hash": "31f2aee4e71d21fbe5cf8b01ff0e069b9275f58929596ceb00d14d90e3e16cd6"
   }
  }
 },
 "nbformat": 4,
 "nbformat_minor": 5
}
