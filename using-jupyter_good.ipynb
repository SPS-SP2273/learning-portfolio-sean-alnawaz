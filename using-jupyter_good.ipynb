{
 "cells": [
  {
   "cell_type": "code",
   "execution_count": 1,
   "id": "b6b90577",
   "metadata": {},
   "outputs": [
    {
     "name": "stdout",
     "output_type": "stream",
     "text": [
      "C:\\Users\\seana\\Documents\\GitHub\\learning-portfolio-sean-alnawaz\n"
     ]
    }
   ],
   "source": [
    "!cd"
   ]
  },
  {
   "cell_type": "code",
   "execution_count": 2,
   "id": "c214c1a1",
   "metadata": {},
   "outputs": [
    {
     "name": "stdout",
     "output_type": "stream",
     "text": [
      " Volume in drive C is Windows\n",
      " Volume Serial Number is A60E-5050\n",
      "\n",
      " Directory of C:\\Users\\seana\\Documents\\GitHub\\learning-portfolio-sean-alnawaz\n",
      "\n",
      "12/01/2023  09:05 am    <DIR>          .\n",
      "12/01/2023  09:05 am    <DIR>          ..\n",
      "10/01/2023  11:21 am    <DIR>          .github\n",
      "10/01/2023  11:21 am             1,928 .gitignore\n",
      "12/01/2023  09:05 am    <DIR>          .ipynb_checkpoints\n",
      "10/01/2023  11:21 am    <DIR>          basics\n",
      "10/01/2023  11:21 am    <DIR>          files, folders and os\n",
      "10/01/2023  11:21 am    <DIR>          functions\n",
      "10/01/2023  11:21 am    <DIR>          Just Exercises (I)\n",
      "10/01/2023  11:21 am    <DIR>          loops\n",
      "10/01/2023  11:21 am    <DIR>          numerical solutions\n",
      "10/01/2023  11:21 am    <DIR>          pandas\n",
      "10/01/2023  11:21 am    <DIR>          plotting\n",
      "10/01/2023  11:21 am    <DIR>          random numbers\n",
      "10/01/2023  11:21 am    <DIR>          storing data\n",
      "10/01/2023  01:29 pm    <DIR>          Testing\n",
      "10/01/2023  11:21 am    <DIR>          using jupyter\n",
      "12/01/2023  09:04 am                72 using-jupyter_good.ipynb\n",
      "12/01/2023  09:05 am             5,025 using-jupyter_need.ipynb\n",
      "               3 File(s)          7,025 bytes\n",
      "              16 Dir(s)  238,217,482,240 bytes free\n"
     ]
    }
   ],
   "source": [
    "!dir"
   ]
  },
  {
   "cell_type": "code",
   "execution_count": null,
   "id": "483cd5c4",
   "metadata": {},
   "outputs": [],
   "source": [
    "!conda install -c conda-forge jupyter_contrib_nbextensions"
   ]
  },
  {
   "cell_type": "code",
   "execution_count": 1,
   "id": "6e1e5887",
   "metadata": {},
   "outputs": [
    {
     "name": "stdout",
     "output_type": "stream",
     "text": [
      "9.48 ns ± 0.173 ns per loop (mean ± std. dev. of 7 runs, 100,000,000 loops each)\n"
     ]
    }
   ],
   "source": [
    "%timeit x=10"
   ]
  },
  {
   "cell_type": "code",
   "execution_count": 2,
   "id": "0b5b7cc1",
   "metadata": {
    "code_folding": []
   },
   "outputs": [
    {
     "name": "stdout",
     "output_type": "stream",
     "text": [
      "17.3 ns ± 0.291 ns per loop (mean ± std. dev. of 7 runs, 100,000,000 loops each)\n"
     ]
    }
   ],
   "source": [
    "%%timeit \n",
    "x=10\n",
    "y=10\n",
    "z=10"
   ]
  }
 ],
 "metadata": {
  "kernelspec": {
   "display_name": "Python 3 (ipykernel)",
   "language": "python",
   "name": "python3"
  },
  "language_info": {
   "codemirror_mode": {
    "name": "ipython",
    "version": 3
   },
   "file_extension": ".py",
   "mimetype": "text/x-python",
   "name": "python",
   "nbconvert_exporter": "python",
   "pygments_lexer": "ipython3",
   "version": "3.10.8"
  },
  "toc": {
   "base_numbering": 1,
   "nav_menu": {},
   "number_sections": true,
   "sideBar": true,
   "skip_h1_title": false,
   "title_cell": "Table of Contents",
   "title_sidebar": "Contents",
   "toc_cell": false,
   "toc_position": {},
   "toc_section_display": true,
   "toc_window_display": false
  },
  "varInspector": {
   "cols": {
    "lenName": 16,
    "lenType": 16,
    "lenVar": 40
   },
   "kernels_config": {
    "python": {
     "delete_cmd_postfix": "",
     "delete_cmd_prefix": "del ",
     "library": "var_list.py",
     "varRefreshCmd": "print(var_dic_list())"
    },
    "r": {
     "delete_cmd_postfix": ") ",
     "delete_cmd_prefix": "rm(",
     "library": "var_list.r",
     "varRefreshCmd": "cat(var_dic_list()) "
    }
   },
   "types_to_exclude": [
    "module",
    "function",
    "builtin_function_or_method",
    "instance",
    "_Feature"
   ],
   "window_display": false
  }
 },
 "nbformat": 4,
 "nbformat_minor": 5
}
